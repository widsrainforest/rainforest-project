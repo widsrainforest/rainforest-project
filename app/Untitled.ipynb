{
 "cells": [
  {
   "cell_type": "code",
   "execution_count": 1,
   "metadata": {},
   "outputs": [
    {
     "name": "stdout",
     "output_type": "stream",
     "text": [
      "Running on http://127.0.0.1:8050/\n",
      "Debugger PIN: 381-977-595\n",
      " * Serving Flask app \"__main__\" (lazy loading)\n",
      " * Environment: production\n",
      "   WARNING: This is a development server. Do not use it in a production deployment.\n",
      "   Use a production WSGI server instead.\n",
      " * Debug mode: on\n"
     ]
    },
    {
     "ename": "SystemExit",
     "evalue": "1",
     "output_type": "error",
     "traceback": [
      "An exception has occurred, use %tb to see the full traceback.\n",
      "\u001b[1;31mSystemExit\u001b[0m\u001b[1;31m:\u001b[0m 1\n"
     ]
    },
    {
     "name": "stderr",
     "output_type": "stream",
     "text": [
      "C:\\Users\\602820\\AppData\\Local\\Continuum\\anaconda3\\lib\\site-packages\\IPython\\core\\interactiveshell.py:3334: UserWarning:\n",
      "\n",
      "To exit: use 'exit', 'quit', or Ctrl-D.\n",
      "\n"
     ]
    }
   ],
   "source": [
    "import os\n",
    "import sys\n",
    "from pathlib import Path\n",
    "\n",
    "import dash\n",
    "import dash_core_components as dcc\n",
    "import dash_html_components as html\n",
    "import dash_table\n",
    "from dash.dependencies import Input, Output\n",
    "\n",
    "sys.path.append(\"..\")\n",
    "\n",
    "from src.app import app_tools\n",
    "from src.data import make_dataset\n",
    "\n",
    "models, labels = app_tools.load_models('05_Nov_19_log_reg')\n",
    "\n",
    "# loads raw image file, turns into a numpy array, and feeds into models to create a prediction\n",
    "predictions = app_tools.load_predict_image('train_0.jpg', models)\n",
    "\n",
    "styles = {\n",
    "    'pre': {\n",
    "        'border': 'grey',\n",
    "        'overflowX': 'scroll'\n",
    "    }\n",
    "}\n",
    "\n",
    "external_stylesheets = ['https://codepen.io/chriddyp/pen/bWLwgP.css']\n",
    "\n",
    "app = dash.Dash(__name__, external_stylesheets=external_stylesheets)\n",
    "colors={\n",
    "    'background':'#111111',\n",
    "    'text':'#7FDBFF'\n",
    "},\n",
    "\n",
    "app.layout = html.Div([    \n",
    "    \n",
    "    dcc.Dropdown(\n",
    "        id='filename_dropdown',\n",
    "        options=[\n",
    "            {'label': 'train_0.jpg', 'value': 'train_0.jpg'},\n",
    "            {'label': 'train_1.jpg', 'value': 'train_1.jpg'},\n",
    "            {'label': 'train_10.jpg', 'value': 'train_10.jpg'},\n",
    "            {'label': 'train_11.jpg', 'value': 'train_11.jpg'},\n",
    "        ],\n",
    "        value='train_0.jpg',\n",
    "        style={'width':'50%'}\n",
    "    ),\n",
    "\n",
    "    dash_table.DataTable(\n",
    "        id = 'table',\n",
    "        columns = [{'name':label, 'id':label} for label in labels],\n",
    "        data = [dict(zip(labels, [0]*len(labels)))]\n",
    "\n",
    "    )\n",
    "    \n",
    "])\n",
    "\n",
    "@app.callback(\n",
    "    Output('table', 'data'),\n",
    "    [Input('filename_dropdown', 'value')]\n",
    ")\n",
    "def update_table(filename):\n",
    "\n",
    "    predictions = app_tools.load_predict_image(filename, models)\n",
    "\n",
    "    return [dict(zip(labels, predictions))]\n",
    "\n",
    "if __name__ == '__main__':\n",
    "    app.run_server(debug=True)"
   ]
  },
  {
   "cell_type": "code",
   "execution_count": null,
   "metadata": {},
   "outputs": [],
   "source": []
  }
 ],
 "metadata": {
  "kernelspec": {
   "display_name": "Python 3",
   "language": "python",
   "name": "python3"
  },
  "language_info": {
   "codemirror_mode": {
    "name": "ipython",
    "version": 3
   },
   "file_extension": ".py",
   "mimetype": "text/x-python",
   "name": "python",
   "nbconvert_exporter": "python",
   "pygments_lexer": "ipython3",
   "version": "3.7.3"
  }
 },
 "nbformat": 4,
 "nbformat_minor": 2
}
