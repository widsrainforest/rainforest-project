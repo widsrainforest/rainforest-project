{
 "cells": [
  {
   "cell_type": "code",
   "execution_count": 1,
   "metadata": {},
   "outputs": [],
   "source": [
    "# Reloads modules as they are changed.\n",
    "%load_ext autoreload\n",
    "%autoreload 2"
   ]
  },
  {
   "cell_type": "code",
   "execution_count": 2,
   "metadata": {},
   "outputs": [],
   "source": [
    "import os\n",
    "import sys\n",
    "from pathlib import Path\n",
    "\n",
    "import pandas as pd \n",
    "\n",
    "import dash\n",
    "import dash_core_components as dcc\n",
    "import dash_html_components as html\n",
    "from dash.dependencies import Input, Output\n",
    "\n",
    "sys.path.append(\"..\")\n",
    "\n",
    "from src.app import app_tools\n",
    "from src.data import make_dataset"
   ]
  },
  {
   "cell_type": "code",
   "execution_count": 6,
   "metadata": {},
   "outputs": [],
   "source": [
    "models, labels = app_tools.load_models('02_Nov_19_log_reg')"
   ]
  },
  {
   "cell_type": "code",
   "execution_count": 4,
   "metadata": {},
   "outputs": [],
   "source": [
    "predictions = app_tools.load_predict_image('train_0.jpg', models)"
   ]
  },
  {
   "cell_type": "code",
   "execution_count": 5,
   "metadata": {},
   "outputs": [
    {
     "data": {
      "text/plain": [
       "[0, 0, 0, 0, 0, 1, 0, 0, 0, 0, 0, 0, 1, 0, 0, 0, 0]"
      ]
     },
     "execution_count": 5,
     "metadata": {},
     "output_type": "execute_result"
    }
   ],
   "source": [
    "predictions"
   ]
  },
  {
   "cell_type": "code",
   "execution_count": 3,
   "metadata": {},
   "outputs": [
    {
     "data": {
      "text/html": [
       "<div>\n",
       "<style scoped>\n",
       "    .dataframe tbody tr th:only-of-type {\n",
       "        vertical-align: middle;\n",
       "    }\n",
       "\n",
       "    .dataframe tbody tr th {\n",
       "        vertical-align: top;\n",
       "    }\n",
       "\n",
       "    .dataframe thead th {\n",
       "        text-align: right;\n",
       "    }\n",
       "</style>\n",
       "<table border=\"1\" class=\"dataframe\">\n",
       "  <thead>\n",
       "    <tr style=\"text-align: right;\">\n",
       "      <th></th>\n",
       "      <th>State</th>\n",
       "      <th>Number of Solar Plants</th>\n",
       "      <th>Installed Capacity (MW)</th>\n",
       "      <th>Average MW Per Plant</th>\n",
       "      <th>Generation (GWh)</th>\n",
       "    </tr>\n",
       "  </thead>\n",
       "  <tbody>\n",
       "    <tr>\n",
       "      <td>0</td>\n",
       "      <td>California</td>\n",
       "      <td>289</td>\n",
       "      <td>4395</td>\n",
       "      <td>15.3</td>\n",
       "      <td>10826</td>\n",
       "    </tr>\n",
       "    <tr>\n",
       "      <td>1</td>\n",
       "      <td>Arizona</td>\n",
       "      <td>48</td>\n",
       "      <td>1078</td>\n",
       "      <td>22.5</td>\n",
       "      <td>2550</td>\n",
       "    </tr>\n",
       "    <tr>\n",
       "      <td>2</td>\n",
       "      <td>Nevada</td>\n",
       "      <td>11</td>\n",
       "      <td>238</td>\n",
       "      <td>21.6</td>\n",
       "      <td>557</td>\n",
       "    </tr>\n",
       "    <tr>\n",
       "      <td>3</td>\n",
       "      <td>New Mexico</td>\n",
       "      <td>33</td>\n",
       "      <td>261</td>\n",
       "      <td>7.9</td>\n",
       "      <td>590</td>\n",
       "    </tr>\n",
       "    <tr>\n",
       "      <td>4</td>\n",
       "      <td>Colorado</td>\n",
       "      <td>20</td>\n",
       "      <td>118</td>\n",
       "      <td>5.9</td>\n",
       "      <td>235</td>\n",
       "    </tr>\n",
       "  </tbody>\n",
       "</table>\n",
       "</div>"
      ],
      "text/plain": [
       "        State  Number of Solar Plants  Installed Capacity (MW)  \\\n",
       "0  California                     289                     4395   \n",
       "1     Arizona                      48                     1078   \n",
       "2      Nevada                      11                      238   \n",
       "3  New Mexico                      33                      261   \n",
       "4    Colorado                      20                      118   \n",
       "\n",
       "   Average MW Per Plant  Generation (GWh)  \n",
       "0                  15.3             10826  \n",
       "1                  22.5              2550  \n",
       "2                  21.6               557  \n",
       "3                   7.9               590  \n",
       "4                   5.9               235  "
      ]
     },
     "execution_count": 3,
     "metadata": {},
     "output_type": "execute_result"
    }
   ],
   "source": [
    "df = pd.read_csv('https://raw.githubusercontent.com/plotly/datasets/master/solar.csv')\n",
    "df.head()"
   ]
  },
  {
   "cell_type": "code",
   "execution_count": 7,
   "metadata": {},
   "outputs": [
    {
     "data": {
      "text/plain": [
       "{'agriculture': 0,\n",
       " 'artisinal_mine': 0,\n",
       " 'bare_ground': 0,\n",
       " 'blooming': 0,\n",
       " 'blow_down': 0,\n",
       " 'clear': 0,\n",
       " 'cloudy': 0,\n",
       " 'conventional_mine': 0,\n",
       " 'cultivation': 0,\n",
       " 'habitation': 0,\n",
       " 'haze': 0,\n",
       " 'partly_cloudy': 0,\n",
       " 'primary': 0,\n",
       " 'road': 0,\n",
       " 'selective_logging': 0,\n",
       " 'slash_burn': 0,\n",
       " 'water': 0}"
      ]
     },
     "execution_count": 7,
     "metadata": {},
     "output_type": "execute_result"
    }
   ],
   "source": [
    "dict(zip(labels, [0]*len(labels)))"
   ]
  },
  {
   "cell_type": "code",
   "execution_count": 4,
   "metadata": {},
   "outputs": [
    {
     "data": {
      "text/plain": [
       "[{'State': 'California',\n",
       "  'Number of Solar Plants': 289,\n",
       "  'Installed Capacity (MW)': 4395,\n",
       "  'Average MW Per Plant': 15.3,\n",
       "  'Generation (GWh)': 10826},\n",
       " {'State': 'Arizona',\n",
       "  'Number of Solar Plants': 48,\n",
       "  'Installed Capacity (MW)': 1078,\n",
       "  'Average MW Per Plant': 22.5,\n",
       "  'Generation (GWh)': 2550},\n",
       " {'State': 'Nevada',\n",
       "  'Number of Solar Plants': 11,\n",
       "  'Installed Capacity (MW)': 238,\n",
       "  'Average MW Per Plant': 21.6,\n",
       "  'Generation (GWh)': 557},\n",
       " {'State': 'New Mexico',\n",
       "  'Number of Solar Plants': 33,\n",
       "  'Installed Capacity (MW)': 261,\n",
       "  'Average MW Per Plant': 7.9,\n",
       "  'Generation (GWh)': 590},\n",
       " {'State': 'Colorado',\n",
       "  'Number of Solar Plants': 20,\n",
       "  'Installed Capacity (MW)': 118,\n",
       "  'Average MW Per Plant': 5.9,\n",
       "  'Generation (GWh)': 235},\n",
       " {'State': 'Texas',\n",
       "  'Number of Solar Plants': 12,\n",
       "  'Installed Capacity (MW)': 187,\n",
       "  'Average MW Per Plant': 15.6,\n",
       "  'Generation (GWh)': 354},\n",
       " {'State': 'North Carolina',\n",
       "  'Number of Solar Plants': 148,\n",
       "  'Installed Capacity (MW)': 669,\n",
       "  'Average MW Per Plant': 4.5,\n",
       "  'Generation (GWh)': 1162},\n",
       " {'State': 'New York',\n",
       "  'Number of Solar Plants': 13,\n",
       "  'Installed Capacity (MW)': 53,\n",
       "  'Average MW Per Plant': 4.1,\n",
       "  'Generation (GWh)': 84}]"
      ]
     },
     "execution_count": 4,
     "metadata": {},
     "output_type": "execute_result"
    }
   ],
   "source": [
    "data=df.to_dict('records')\n",
    "data"
   ]
  },
  {
   "cell_type": "code",
   "execution_count": null,
   "metadata": {},
   "outputs": [],
   "source": []
  }
 ],
 "metadata": {
  "kernelspec": {
   "display_name": "Python [conda env:amazon_cv] *",
   "language": "python",
   "name": "conda-env-amazon_cv-py"
  },
  "language_info": {
   "codemirror_mode": {
    "name": "ipython",
    "version": 3
   },
   "file_extension": ".py",
   "mimetype": "text/x-python",
   "name": "python",
   "nbconvert_exporter": "python",
   "pygments_lexer": "ipython3",
   "version": "3.7.4"
  }
 },
 "nbformat": 4,
 "nbformat_minor": 2
}
