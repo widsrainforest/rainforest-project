{
 "cells": [
  {
   "cell_type": "code",
   "execution_count": 67,
   "metadata": {},
   "outputs": [],
   "source": [
    "# Reloads modules as they are changed.\n",
    "%load_ext autoreload\n",
    "%autoreload 2"
   ]
  },
  {
   "cell_type": "code",
   "execution_count": 68,
   "metadata": {},
   "outputs": [],
   "source": [
    "import os\n",
    "from pathlib import Path\n",
    "import sys\n",
    "\n",
    "import numpy as np\n",
    "import pandas as pd\n",
    "import seaborn as sns\n",
    "\n",
    "import plotly.graph_objs as go\n",
    "from plotly.offline import init_notebook_mode\n",
    "\n",
    "# init_notebook_mode(connected=True)\n",
    "\n",
    "sys.path.append(\"..\")\n",
    "\n",
    "from src.data import make_dataset\n",
    "from src.model import model_pipeline"
   ]
  },
  {
   "cell_type": "code",
   "execution_count": 53,
   "metadata": {},
   "outputs": [
    {
     "name": "stderr",
     "output_type": "stream",
     "text": [
      "/anaconda3/envs/amazon_cv/lib/python3.7/site-packages/ipykernel_launcher.py:3: RuntimeWarning:\n",
      "\n",
      "covariance is not symmetric positive-semidefinite.\n",
      "\n"
     ]
    },
    {
     "data": {
      "text/plain": [
       "<seaborn.axisgrid.JointGrid at 0x1a25c69150>"
      ]
     },
     "execution_count": 53,
     "metadata": {},
     "output_type": "execute_result"
    },
    {
     "data": {
      "image/png": "[encoded data removed]",
      "text/plain": [
       "<Figure size 432x432 with 3 Axes>"
      ]
     },
     "metadata": {
      "needs_background": "light"
     },
     "output_type": "display_data"
    }
   ],
   "source": [
    "mean, cov = [0, 0], [(0, 5), (7, 0)]\n",
    "n = len(df)\n",
    "data = np.random.multivariate_normal(mean, cov, n)\n",
    "\n",
    "df_test = pd.DataFrame(data, columns=[\"x\", \"y\"])\n",
    "sns.jointplot(x=\"x\", y=\"y\", data=df_test)"
   ]
  },
  {
   "cell_type": "markdown",
   "metadata": {},
   "source": [
    "### Testing Lat Lon Generation\n",
    "\n",
    "Using map of airports as example"
   ]
  },
  {
   "cell_type": "code",
   "execution_count": 103,
   "metadata": {},
   "outputs": [
    {
     "data": {
      "application/vnd.plotly.v1+json": {
       "config": {
        "plotlyServerURL": "https://plot.ly"
       },
       "data": [
        {
         "lat": [
          41.979595,
          33.64044444,
          32.89595056,
          33.43416667,
          39.85840806,
          29.98047222,
          37.61900194,
          33.94253611,
          28.42888889,
          35.21401111,
          40.78838778,
          27.97547222,
          40.69249722,
          36.08036111,
          39.87195278,
          44.88054694,
          47.44898194,
          40.77724306,
          41.7859825,
          38.94453194,
          32.73355611,
          38.74768694,
          42.21205889,
          40.63975111,
          25.79325,
          42.3643475,
          38.69542167,
          39.17540167,
          33.67565861,
          29.99338889,
          37.36186194,
          38.85208333,
          45.58872222,
          26.53616667,
          26.68316194,
          35.87763889,
          29.64541861,
          29.53369444,
          26.07258333,
          39.29760528,
          37.72129083,
          40.49146583,
          35.04241667,
          42.94722222,
          41.41089417,
          30.49405556,
          32.11608333,
          39.71732917,
          39.49857611,
          35.39308833,
          41.72399917,
          36.19837222,
          39.04614278,
          39.99798528,
          38.17438889,
          34.056,
          34.72939611,
          32.84711389,
          41.30251861,
          36.89461111,
          39.90237583,
          43.11886611,
          36.28186944,
          36.12447667,
          35.04022222,
          32.31116667,
          31.80666667,
          37.50516667,
          41.93887417,
          31.94252778,
          30.53316083,
          35.81248722,
          38.80580556,
          30.47330556,
          43.11118694,
          33.56294306,
          42.93451639,
          33.82921556,
          27.39533333,
          27.77036083,
          34.6404475,
          33.93884,
          30.20527972,
          34.42621194,
          47.61985556,
          30.69141667,
          37.64995889,
          42.94052472,
          41.53493306,
          40.19349528,
          43.64616667,
          32.30064417,
          37.13189556,
          41.06695778,
          36.5869825,
          42.88081972,
          30.448674,
          32.65658333,
          39.22316,
          30.39652778,
          30.40728028,
          44.04532139,
          33.81772222,
          34.27061111,
          38.03697222,
          43.13985778,
          44.123259999999995,
          32.12758333,
          33.66363889,
          41.88458833,
          34.89566722,
          36.09774694,
          40.7952425,
          41.44852639,
          35.43619444,
          40.91631194,
          40.47798556,
          26.22850611,
          30.48325,
          32.446627500000005,
          46.91934889,
          40.48118028,
          42.37422778,
          40.66424333,
          27.54373861,
          30.19453278,
          32.41132,
          37.24432611,
          42.96550333,
          36.47521417,
          31.06489778,
          32.89864639,
          44.48507333,
          44.25406722,
          32.51633333,
          41.70895361,
          43.56444444,
          33.67975,
          48.25937778,
          40.03925,
          37.32546833,
          39.64256778,
          43.60732417,
          45.77690139,
          39.1224125,
          34.20061917,
          38.03799139,
          38.53396333,
          43.51455556,
          36.77619444,
          39.84395194,
          26.17583333,
          40.50898361,
          47.949255,
          43.58135111,
          42.48180389,
          34.89924833,
          42.91130556,
          31.32133917,
          34.82916444,
          38.50886722,
          46.77411111,
          42.90835556,
          44.74144472,
          32.51086556,
          46.26468028,
          39.14096722,
          31.32737167,
          43.41713889,
          35.61677778,
          42.15614361,
          41.50409361,
          38.13863889,
          30.7825,
          44.77761917,
          35.65884306,
          40.97811528,
          31.25902778,
          40.85097222,
          40.97846583,
          44.52019417,
          37.06083333,
          35.23705806,
          41.33814944,
          33.45033444,
          44.34889806,
          35.07297222,
          33.369955,
          35.33659028,
          32.35413889,
          46.60681806,
          47.48200194,
          32.33313333,
          46.353639,
          37.95375861,
          35.03526833,
          46.37449806,
          37.70097028,
          42.74811944,
          44.47300361,
          48.31140472,
          28.10275,
          29.17991667,
          40.65236278,
          46.84209028,
          41.155722499999996,
          41.5942175,
          37.85830556,
          38.37315083,
          48.79275,
          37.62404861,
          44.25740806,
          36.385913,
          27.91076333,
          33.98879611,
          34.99147222,
          44.86525722,
          42.40295944,
          43.90882639,
          34.681499,
          45.8076625
         ],
         "locationmode": "USA-states",
         "lon": [
          -87.90446417,
          -84.42694444,
          -97.0372,
          -112.00805559999999,
          -104.6670019,
          -95.33972222,
          -122.3748433,
          -118.40807439999999,
          -81.31602778,
          -80.94312583,
          -111.9777731,
          -82.53325,
          -74.16866056,
          -115.15233329999998,
          -75.24114083,
          -93.2169225,
          -122.30931310000001,
          -73.87260917,
          -87.75242444,
          -77.45580972,
          -117.1896567,
          -90.35998972,
          -83.34883583,
          -73.77892556,
          -80.29055556,
          -71.00517917,
          -121.5907669,
          -76.66819833,
          -117.86822250000002,
          -90.25802778,
          -121.92900890000001,
          -77.03772222,
          -122.5975,
          -81.75516667,
          -80.09559417,
          -78.78747222,
          -95.27888889,
          -98.46977778,
          -80.15275,
          -94.71390556,
          -122.22071670000001,
          -80.23287083,
          -89.97666667,
          -87.89658333,
          -81.84939667,
          -81.68786111,
          -110.94102779999999,
          -86.29438417,
          -119.76806470000001,
          -97.60073389,
          -71.42822111,
          -95.88824167,
          -84.6621725,
          -82.89188278,
          -85.736,
          -117.60119440000001,
          -92.22424556,
          -96.85177222,
          -95.89417306,
          -76.20122222,
          -84.219375,
          -77.67238389,
          -94.30681111,
          -86.67818222,
          -106.6091944,
          -90.07588889,
          -106.37780559999999,
          -77.31966667,
          -72.68322833,
          -102.20191390000001,
          -91.14963444,
          -83.99285583,
          -104.70025,
          -87.18744444,
          -76.10631056,
          -86.75354972,
          -71.43705583,
          -116.5062531,
          -82.55411111,
          -97.50121528,
          -86.77310944,
          -81.11953944,
          -91.987655,
          -119.8403733,
          -117.5338425,
          -88.24283333,
          -97.43304583,
          -78.73216667,
          -93.66068222,
          -76.76340361,
          -70.30875,
          -86.39397611,
          -76.4929875,
          -73.70757444,
          -121.84294779999999,
          -85.52276778,
          -84.550781,
          -114.60597220000001,
          -106.868845,
          -84.35033333,
          -89.07009278,
          -103.0573708,
          -118.1516111,
          -77.90255556,
          -84.60538889,
          -89.33751361,
          -123.21868559999999,
          -81.20213889,
          -101.8227778,
          -91.71087222,
          -82.21885833,
          -79.9372975,
          -73.10021194,
          -90.50753917,
          -82.54180556,
          -81.44246556,
          -88.91595278,
          -97.65439389,
          -86.5254,
          -93.82559833,
          -96.81498889,
          -107.21765970000001,
          -122.8734978,
          -89.69330556,
          -99.46154361,
          -97.66987194,
          -99.68189722,
          -93.38685806,
          -83.74345639,
          -82.40742056,
          -97.82779778,
          -80.04050583,
          -88.12959000000001,
          -121.1499633,
          -84.93886111,
          -86.31847417,
          -116.22277779999999,
          -78.92833333,
          -101.2803339,
          -88.27805556,
          -79.97542833,
          -106.91769529999999,
          -110.7377389,
          -111.15300719999999,
          -108.5267347,
          -118.3584969,
          -87.53062667,
          -106.9331817,
          -112.07016670000002,
          -119.7181389,
          -89.67761861,
          -98.23861111,
          -122.2934019,
          -97.17611111,
          -96.74170028,
          -114.4877356,
          -120.4575825,
          -112.59586110000001,
          -85.44962889,
          -77.61213778,
          -107.89383329999998,
          -100.74672220000001,
          -106.46446609999998,
          -85.582235,
          -92.03768778,
          -119.11902920000001,
          -96.67083278,
          -92.54855611,
          -124.2460278,
          -106.08813889999999,
          -121.7332081,
          -74.10483833,
          -78.45286111,
          -83.27672222,
          -89.66677944,
          -117.8295122,
          -124.1086189,
          -81.46630556,
          -96.75925,
          -85.19514639,
          -109.02379609999998,
          -88.77375,
          -120.64239309999999,
          -75.72426750000001,
          -88.59136861,
          -105.5393614,
          -77.04294444,
          -81.96449611,
          -94.36744111,
          -95.40238611,
          -111.9827503,
          -111.37068529999999,
          -88.75120556,
          -87.395361,
          -107.90848000000001,
          -85.20378778,
          -117.01539440000002,
          -113.098575,
          -73.80297861,
          -73.1503125,
          -114.25506940000001,
          -80.64580556,
          -81.05805556,
          -75.44040167,
          -92.19364861,
          -104.81183809999999,
          -109.0651928,
          -80.39947222,
          -81.59318972,
          -122.53752779999999,
          -118.8377722,
          -88.51947556,
          -92.548828,
          -82.68743944,
          -98.49189333,
          -78.88,
          -91.48507194,
          -90.70916722,
          -92.49798722,
          -90.348816,
          -108.54286110000001
         ],
         "marker": {
          "autocolorscale": false,
          "cmax": 25129,
          "cmin": 0,
          "color": [
           25129,
           21925,
           20662,
           17290,
           13781,
           13223,
           12016,
           11797,
           10536,
           10490,
           9898,
           9182,
           8678,
           8523,
           7965,
           7690,
           7541,
           7392,
           6979,
           6779,
           6233,
           6204,
           6044,
           5945,
           5907,
           5627,
           4943,
           4749,
           4616,
           4432,
           4367,
           4332,
           4071,
           4057,
           3972,
           3896,
           3824,
           3654,
           3616,
           3403,
           3386,
           3180,
           3058,
           3030,
           3015,
           3005,
           2786,
           2136,
           2104,
           2104,
           2044,
           2003,
           1986,
           1752,
           1716,
           1622,
           1620,
           1502,
           1474,
           1439,
           1337,
           1327,
           1310,
           1299,
           1258,
           1224,
           1206,
           1199,
           1162,
           1103,
           1095,
           1052,
           1040,
           1035,
           1006,
           956,
           953,
           949,
           932,
           926,
           880,
           840,
           818,
           800,
           785,
           768,
           747,
           711,
           708,
           702,
           686,
           686,
           675,
           664,
           658,
           656,
           653,
           627,
           611,
           608,
           582,
           572,
           562,
           553,
           540,
           538,
           529,
           524,
           518,
           516,
           479,
           472,
           460,
           451,
           448,
           445,
           426,
           414,
           410,
           410,
           409,
           408,
           404,
           404,
           396,
           393,
           382,
           381,
           379,
           347,
           346,
           338,
           333,
           328,
           324,
           324,
           319,
           314,
           310,
           306,
           301,
           296,
           295,
           288,
           285,
           280,
           270,
           270,
           264,
           264,
           258,
           248,
           248,
           246,
           245,
           225,
           216,
           216,
           214,
           212,
           210,
           208,
           208,
           201,
           199,
           168,
           168,
           168,
           168,
           168,
           168,
           159,
           158,
           158,
           156,
           146,
           144,
           140,
           127,
           114,
           112,
           112,
           112,
           112,
           112,
           112,
           112,
           112,
           112,
           110,
           108,
           108,
           104,
           104,
           104,
           104,
           102,
           96,
           93,
           91,
           90,
           74,
           72,
           60,
           58,
           56,
           56,
           56,
           56,
           56,
           56,
           56,
           56,
           52,
           50,
           50,
           48,
           48,
           37,
           32,
           23
          ],
          "colorbar": {
           "title": {
            "text": "Incoming flights<br>February 2011"
           }
          },
          "colorscale": [
           [
            0,
            "rgb(247,251,255)"
           ],
           [
            0.125,
            "rgb(222,235,247)"
           ],
           [
            0.25,
            "rgb(198,219,239)"
           ],
           [
            0.375,
            "rgb(158,202,225)"
           ],
           [
            0.5,
            "rgb(107,174,214)"
           ],
           [
            0.625,
            "rgb(66,146,198)"
           ],
           [
            0.75,
            "rgb(33,113,181)"
           ],
           [
            0.875,
            "rgb(8,81,156)"
           ],
           [
            1,
            "rgb(8,48,107)"
           ]
          ],
          "line": {
           "color": "rgba(102, 102, 102)",
           "width": 1
          },
          "opacity": 0.8,
          "reversescale": true,
          "size": 8,
          "symbol": "square"
         },
         "mode": "markers",
         "text": [
          "Chicago O'Hare InternationalChicago, ILArrivals: 25129",
          "William B Hartsfield-Atlanta IntlAtlanta, GAArrivals: 21925",
          "Dallas-Fort Worth InternationalDallas-Fort Worth, TXArrivals: 20662",
          "Phoenix Sky Harbor InternationalPhoenix, AZArrivals: 17290",
          "Denver IntlDenver, COArrivals: 13781",
          "George Bush IntercontinentalHouston, TXArrivals: 13223",
          "San Francisco InternationalSan Francisco, CAArrivals: 12016",
          "Los Angeles InternationalLos Angeles, CAArrivals: 11797",
          "Orlando InternationalOrlando, FLArrivals: 10536",
          "Charlotte/Douglas InternationalCharlotte, NCArrivals: 10490",
          "Salt Lake City IntlSalt Lake City, UTArrivals: 9898",
          "Tampa International Tampa, FLArrivals: 9182",
          "Newark IntlNewark, NJArrivals: 8678",
          "McCarran InternationalLas Vegas, NVArrivals: 8523",
          "Philadelphia IntlPhiladelphia, PAArrivals: 7965",
          "Minneapolis-St Paul IntlMinneapolis, MNArrivals: 7690",
          "Seattle-Tacoma IntlSeattle, WAArrivals: 7541",
          "LaGuardiaNew York, NYArrivals: 7392",
          "Chicago MidwayChicago, ILArrivals: 6979",
          "Washington Dulles InternationalChantilly, VAArrivals: 6779",
          "San Diego International-Lindbergh San Diego, CAArrivals: 6233",
          "Lambert-St Louis InternationalSt Louis, MOArrivals: 6204",
          "Detroit Metropolitan-Wayne CountyDetroit, MIArrivals: 6044",
          "John F Kennedy IntlNew York, NYArrivals: 5945",
          "Miami InternationalMiami, FLArrivals: 5907",
          "Gen Edw L Logan IntlBoston, MAArrivals: 5627",
          "Sacramento InternationalSacramento, CAArrivals: 4943",
          "Baltimore-Washington InternationalBaltimore, MDArrivals: 4749",
          "John Wayne /Orange CoSanta Ana, CAArrivals: 4616",
          "New Orleans International New Orleans, LAArrivals: 4432",
          "San Jose InternationalSan Jose, CAArrivals: 4367",
          "Ronald Reagan Washington NationalArlington, VAArrivals: 4332",
          "Portland IntlPortland, ORArrivals: 4071",
          "Southwest Florida InternationalFt. Myers, FLArrivals: 4057",
          "Palm Beach InternationalWest Palm Beach, FLArrivals: 3972",
          "Raleigh-Durham InternationalRaleigh, NCArrivals: 3896",
          "William P HobbyHouston, TXArrivals: 3824",
          "San Antonio InternationalSan Antonio, TXArrivals: 3654",
          "Fort Lauderdale-Hollywood Int'lFt. Lauderdale, FLArrivals: 3616",
          "Kansas City InternationalKansas City, MOArrivals: 3403",
          "Metropolitan Oakland InternationalOakland, CAArrivals: 3386",
          "Pittsburgh InternationalPittsburgh, PAArrivals: 3180",
          "Memphis InternationalMemphis, TNArrivals: 3058",
          "General Mitchell InternationalMilwaukee, WIArrivals: 3030",
          "Cleveland-Hopkins IntlCleveland, OHArrivals: 3015",
          "Jacksonville InternationalJacksonville, FLArrivals: 3005",
          "Tucson InternationalTucson, AZArrivals: 2786",
          "Indianapolis InternationalIndianapolis, INArrivals: 2136",
          "Reno/Tahoe InternationalReno, NVArrivals: 2104",
          "Will Rogers WorldOklahoma City, OKArrivals: 2104",
          "Theodore F Green StateProvidence, RIArrivals: 2044",
          "Tulsa InternationalTulsa, OKArrivals: 2003",
          "Cincinnati Northern Kentucky IntlCovington, KYArrivals: 1986",
          "Port Columbus IntlColumbus, OHArrivals: 1752",
          "Louisville International-Standiford Louisville, KYArrivals: 1716",
          "Ontario InternationalOntario, CAArrivals: 1622",
          "Adams Little Rock, ARArrivals: 1620",
          "Dallas Love Dallas, TXArrivals: 1502",
          "Eppley AirfieldOmaha, NEArrivals: 1474",
          "Norfolk InternationalNorfolk, VAArrivals: 1439",
          "James M Cox Dayton IntlDayton, OHArrivals: 1337",
          "Greater Rochester Int'lRochester, NYArrivals: 1327",
          "Northwest Arkansas RegionalFayetteville/Springdale/Rogers, ARArrivals: 1310",
          "Nashville InternationalNashville, TNArrivals: 1299",
          "Albuquerque InternationalAlbuquerque, NMArrivals: 1258",
          "Jackson InternationalJackson, MSArrivals: 1224",
          "El Paso InternationalEl Paso, TXArrivals: 1206",
          "Richmond InternationalRichmond, VAArrivals: 1199",
          "Bradley InternationalWindsor Locks, CTArrivals: 1162",
          "Midland InternationalMidland, TXArrivals: 1103",
          "Baton Rouge Metropolitan, Ryan Baton Rouge, LAArrivals: 1095",
          "McGhee-TysonKnoxville, TNArrivals: 1052",
          "City of Colorado Springs MuniColorado Springs, COArrivals: 1040",
          "Pensacola RegionalPensacola, FLArrivals: 1035",
          "Syracuse-Hancock IntlSyracuse, NYArrivals: 1006",
          "Birmingham InternationalBirmingham, ALArrivals: 956",
          "ManchesterManchester, NHArrivals: 953",
          "Palm Springs InternationalPalm Springs, CAArrivals: 949",
          "Sarasota Bradenton InternationalSarasota, FLArrivals: 932",
          "Corpus Christi InternationalCorpus Christi, TXArrivals: 926",
          "Huntsville International Huntsville, ALArrivals: 880",
          "Columbia MetropolitanColumbia, SCArrivals: 840",
          "Lafayette RegionalLafayette, LAArrivals: 818",
          "Santa Barbara MunicipalSanta Barbara, CAArrivals: 800",
          "Spokane IntlSpokane, WAArrivals: 785",
          "Mobile RegionalMobile, ALArrivals: 768",
          "Wichita Mid-ContinentWichita, KSArrivals: 747",
          "Buffalo Niagara IntlBuffalo, NYArrivals: 711",
          "Des Moines InternationalDes Moines, IAArrivals: 708",
          "Harrisburg IntlHarrisburg, PAArrivals: 702",
          "Portland International JetportPortland, MEArrivals: 686",
          "Montgomery Regional AptMontgomery, ALArrivals: 686",
          "Newport News/Williamsburg InternationalNewport News, VAArrivals: 675",
          "Westchester CtyWhite Plains, NYArrivals: 664",
          "Monterey PeninsulaMonterey, CAArrivals: 658",
          "Kent County InternationalGrand Rapids, MIArrivals: 656",
          "Florida BeachBeaches, FLArrivals: 653",
          "Yuma MCAS-Yuma InternationalYuma, AZArrivals: 627",
          "Aspen-Pitkin Co/Sardy Aspen, COArrivals: 611",
          "Tallahassee RegionalTallahassee, FLArrivals: 608",
          "Gulfport-Biloxi RegionalGulfport-Biloxi, MSArrivals: 582",
          "Rapid City RegionalRapid City, SDArrivals: 572",
          "Long Beach (Daugherty )Long Beach, CAArrivals: 562",
          "Wilmington InternationalWilmington, NCArrivals: 553",
          "Blue Grass Lexington, KYArrivals: 540",
          "Dane County RegionalMadison, WIArrivals: 538",
          "Mahlon Sweet Eugene, ORArrivals: 529",
          "Savannah InternationalSavannah, GAArrivals: 524",
          "Lubbock InternationalLubbock, TXArrivals: 518",
          "Eastern Iowa Cedar Rapids, IAArrivals: 516",
          "Greenville-SpartanburgGreer, SCArrivals: 479",
          "Piedmont Triad InternationalGreensboro, NCArrivals: 472",
          "Long Island - MacArthurIslip, NYArrivals: 460",
          "Quad CityMoline, ILArrivals: 451",
          "Asheville RegionalAsheville, NCArrivals: 448",
          "Akron-Canton RegionalAkron, OHArrivals: 445",
          "Central Illinois RegionalBloomington, ILArrivals: 426",
          "Valley InternationalHarlingen, TXArrivals: 414",
          "Eglin Air Force BaseValparaiso, FLArrivals: 410",
          "Shreveport RegionalShreveport, LAArrivals: 410",
          "Hector InternationalFargo, NDArrivals: 409",
          "Yampa ValleyHayden, COArrivals: 408",
          "Rogue Valley InternationalMedford, ORArrivals: 404",
          "Greater Peoria RegionalPeoria, ILArrivals: 404",
          "Laredo InternationalLaredo, TXArrivals: 396",
          "Austin-Bergstrom InternationalAustin, TXArrivals: 393",
          "Abilene RegionalAbilene, TXArrivals: 382",
          "Springfield-Branson RegionalSpringfield, MOArrivals: 381",
          "BishopFlint, MIArrivals: 379",
          "Tri-Cities RegionalBristol, TNArrivals: 347",
          "Robert Gray AAFKilleen, TXArrivals: 346",
          "Charleston AFB/InternationalCharleston, SCArrivals: 338",
          "Austin Straubel InternationalGreen Bay, WIArrivals: 333",
          "Roberts Redmond, ORArrivals: 328",
          "Columbus MetropolitanColumbus, GAArrivals: 324",
          "South Bend RegionalSouth Bend, INArrivals: 324",
          "Boise Air TerminalBoise, IDArrivals: 319",
          "Myrtle Beach InternationalMyrtle Beach, SCArrivals: 314",
          "Minot InternationalMinot, NDArrivals: 310",
          "University of Illinois-WillardChampaign/Urbana, ILArrivals: 306",
          "Roanoke Regional/ Woodrum Roanoke, VAArrivals: 301",
          "Eagle County RegionalEagle, COArrivals: 296",
          "Jackson HoleJackson, WYArrivals: 295",
          "Gallatin Bozeman, MTArrivals: 288",
          "Walker Grand Junction, COArrivals: 285",
          "Burbank-Glendale-PasadenaBurbank, CAArrivals: 280",
          "Evansville RegionalEvansville, INArrivals: 270",
          "Gunnison CountyGunnison, COArrivals: 270",
          "Idaho Falls RegionalIdaho Falls, IDArrivals: 264",
          "Fresno Yosemite InternationalFresno, CAArrivals: 264",
          "CapitalSpringfield, ILArrivals: 258",
          "McAllen Miller InternationalMcAllen, TXArrivals: 248",
          "Redding MunicipalRedding, CAArrivals: 248",
          "Grand Forks InternationalGrand Forks, NDArrivals: 246",
          "Joe Foss Sioux Falls, SDArrivals: 245",
          "Joslin Field - Magic ValleyTwin Falls, IDArrivals: 225",
          "Santa Maria Pub/Capt G Allan Hancock Santa Maria, CAArrivals: 216",
          "Pocatello RegionalPocatello, IDArrivals: 216",
          "Dothan Dothan, ALArrivals: 214",
          "Albert J EllisJacksonville, NCArrivals: 212",
          "Montrose RegionalMontrose, COArrivals: 210",
          "Bismarck MunicipalBismarck, NDArrivals: 208",
          "Natrona County IntlCasper, WYArrivals: 208",
          "Cherry CapitalTraverse City, MIArrivals: 201",
          "Monroe RegionalMonroe, LAArrivals: 199",
          "Tri-CitiesPasco, WAArrivals: 168",
          "Manhattan RegionalManhattan, KSArrivals: 168",
          "Alexandria InternationalAlexandria, LAArrivals: 168",
          "North Bend MuniNorth Bend, ORArrivals: 168",
          "Santa Fe MunicipalSanta Fe, NMArrivals: 168",
          "Klamath Falls InternationalKlamath Falls, ORArrivals: 168",
          "StewartNewburgh, NYArrivals: 159",
          "Charlottesville-AlbermarleCharlottesville, VAArrivals: 158",
          "Valdosta RegionalValdosta, GAArrivals: 158",
          "Central WisconsinMosinee, WIArrivals: 156",
          "InyokernInyokern, CAArrivals: 146",
          "ArcataArcata/Eureka, CAArrivals: 144",
          "Glynco JetportBrunswick, GAArrivals: 140",
          "Lincoln MunicipalLincoln, NEArrivals: 127",
          "Fort Wayne InternationalFort Wayne, INArrivals: 114",
          "Yellowstone RegionalCody, WYArrivals: 112",
          "Barkley RegionalPaducah, KYArrivals: 112",
          "San Luis Obispo Co-McChesney San Luis Obispo, CAArrivals: 112",
          "Wilkes-Barre/Scranton IntlWilkes-Barre/Scranton, PAArrivals: 112",
          "Golden Triangle RegionalColumbus-Starkville-West Point, MSArrivals: 112",
          "Gillette-Campbell CountyGillette, WYArrivals: 112",
          "Craven County RegionalNew Bern, NCArrivals: 112",
          "Bush Augusta, GAArrivals: 112",
          "Fort Smith RegionalFort Smith, ARArrivals: 112",
          "Tyler Pounds Tyler, TXArrivals: 110",
          "Helena RegionalHelena, MTArrivals: 108",
          "Great Falls IntlGreat Falls, MTArrivals: 108",
          "Key Meridian, MSArrivals: 104",
          null,
          "Telluride RegionalTelluride, COArrivals: 104",
          "Lovell Chattanooga, TNArrivals: 104",
          "Lewiston-Nez Perce CountyLewiston, IDArrivals: 102",
          "Cedar City MuniCedar City, UTArrivals: 96",
          "Albany CtyAlbany, NYArrivals: 93",
          "Burlington InternationalBurlington, VTArrivals: 91",
          "Glacier Park IntlKalispell, MTArrivals: 90",
          "Melbourne International Melbourne, FLArrivals: 74",
          "Daytona Beach InternationalDaytona Beach, FLArrivals: 72",
          "Lehigh Valley InternationalAllentown, PAArrivals: 60",
          "Duluth InternationalDuluth, MNArrivals: 58",
          "CheyenneCheyenne, WYArrivals: 56",
          "Rock Springs-Sweetwater CountyRock Springs, WYArrivals: 56",
          "Greenbrier ValleyLewisburg, WVArrivals: 56",
          "YeagerCharleston, WVArrivals: 56",
          "Bellingham IntlBellingham, WAArrivals: 56",
          "Mammoth YosemiteMammoth Lakes, CAArrivals: 56",
          "Outagamie County RegionalAppleton, WIArrivals: 56",
          "Branson AirportHollister, MOArrivals: 56",
          "St. Petersburg-Clearwater InternationalSt. Petersburg, FLArrivals: 52",
          "Sheppard AFB/Wichita Falls MunicipalWichita Falls, TXArrivals: 50",
          "Fayetteville MunicipalFayetteville, NCArrivals: 50",
          "Chippewa Valley RegionalEau Claire, WIArrivals: 48",
          "Dubuque MunicipalDubuque, IAArrivals: 48",
          "Rochester InternationalRochester, MNArrivals: 37",
          "Tunica Municipal AirportTunica, MSArrivals: 32",
          "Billings Logan IntlBillings, MTArrivals: 23"
         ],
         "type": "scattergeo"
        }
       ],
       "layout": {
        "geo": {
         "countrycolor": "rgb(217, 217, 217)",
         "countrywidth": 0.5,
         "landcolor": "rgb(250, 250, 250)",
         "projection": {
          "type": "albers usa"
         },
         "scope": "usa",
         "showland": true,
         "subunitcolor": "rgb(217, 217, 217)",
         "subunitwidth": 0.5
        },
        "template": {
         "data": {
          "bar": [
           {
            "error_x": {
             "color": "#2a3f5f"
            },
            "error_y": {
             "color": "#2a3f5f"
            },
            "marker": {
             "line": {
              "color": "#E5ECF6",
              "width": 0.5
             }
            },
            "type": "bar"
           }
          ],
          "barpolar": [
           {
            "marker": {
             "line": {
              "color": "#E5ECF6",
              "width": 0.5
             }
            },
            "type": "barpolar"
           }
          ],
          "carpet": [
           {
            "aaxis": {
             "endlinecolor": "#2a3f5f",
             "gridcolor": "white",
             "linecolor": "white",
             "minorgridcolor": "white",
             "startlinecolor": "#2a3f5f"
            },
            "baxis": {
             "endlinecolor": "#2a3f5f",
             "gridcolor": "white",
             "linecolor": "white",
             "minorgridcolor": "white",
             "startlinecolor": "#2a3f5f"
            },
            "type": "carpet"
           }
          ],
          "choropleth": [
           {
            "colorbar": {
             "outlinewidth": 0,
             "ticks": ""
            },
            "type": "choropleth"
           }
          ],
          "contour": [
           {
            "colorbar": {
             "outlinewidth": 0,
             "ticks": ""
            },
            "colorscale": [
             [
              0,
              "#0d0887"
             ],
             [
              0.1111111111111111,
              "#46039f"
             ],
             [
              0.2222222222222222,
              "#7201a8"
             ],
             [
              0.3333333333333333,
              "#9c179e"
             ],
             [
              0.4444444444444444,
              "#bd3786"
             ],
             [
              0.5555555555555556,
              "#d8576b"
             ],
             [
              0.6666666666666666,
              "#ed7953"
             ],
             [
              0.7777777777777778,
              "#fb9f3a"
             ],
             [
              0.8888888888888888,
              "#fdca26"
             ],
             [
              1,
              "#f0f921"
             ]
            ],
            "type": "contour"
           }
          ],
          "contourcarpet": [
           {
            "colorbar": {
             "outlinewidth": 0,
             "ticks": ""
            },
            "type": "contourcarpet"
           }
          ],
          "heatmap": [
           {
            "colorbar": {
             "outlinewidth": 0,
             "ticks": ""
            },
            "colorscale": [
             [
              0,
              "#0d0887"
             ],
             [
              0.1111111111111111,
              "#46039f"
             ],
             [
              0.2222222222222222,
              "#7201a8"
             ],
             [
              0.3333333333333333,
              "#9c179e"
             ],
             [
              0.4444444444444444,
              "#bd3786"
             ],
             [
              0.5555555555555556,
              "#d8576b"
             ],
             [
              0.6666666666666666,
              "#ed7953"
             ],
             [
              0.7777777777777778,
              "#fb9f3a"
             ],
             [
              0.8888888888888888,
              "#fdca26"
             ],
             [
              1,
              "#f0f921"
             ]
            ],
            "type": "heatmap"
           }
          ],
          "heatmapgl": [
           {
            "colorbar": {
             "outlinewidth": 0,
             "ticks": ""
            },
            "colorscale": [
             [
              0,
              "#0d0887"
             ],
             [
              0.1111111111111111,
              "#46039f"
             ],
             [
              0.2222222222222222,
              "#7201a8"
             ],
             [
              0.3333333333333333,
              "#9c179e"
             ],
             [
              0.4444444444444444,
              "#bd3786"
             ],
             [
              0.5555555555555556,
              "#d8576b"
             ],
             [
              0.6666666666666666,
              "#ed7953"
             ],
             [
              0.7777777777777778,
              "#fb9f3a"
             ],
             [
              0.8888888888888888,
              "#fdca26"
             ],
             [
              1,
              "#f0f921"
             ]
            ],
            "type": "heatmapgl"
           }
          ],
          "histogram": [
           {
            "marker": {
             "colorbar": {
              "outlinewidth": 0,
              "ticks": ""
             }
            },
            "type": "histogram"
           }
          ],
          "histogram2d": [
           {
            "colorbar": {
             "outlinewidth": 0,
             "ticks": ""
            },
            "colorscale": [
             [
              0,
              "#0d0887"
             ],
             [
              0.1111111111111111,
              "#46039f"
             ],
             [
              0.2222222222222222,
              "#7201a8"
             ],
             [
              0.3333333333333333,
              "#9c179e"
             ],
             [
              0.4444444444444444,
              "#bd3786"
             ],
             [
              0.5555555555555556,
              "#d8576b"
             ],
             [
              0.6666666666666666,
              "#ed7953"
             ],
             [
              0.7777777777777778,
              "#fb9f3a"
             ],
             [
              0.8888888888888888,
              "#fdca26"
             ],
             [
              1,
              "#f0f921"
             ]
            ],
            "type": "histogram2d"
           }
          ],
          "histogram2dcontour": [
           {
            "colorbar": {
             "outlinewidth": 0,
             "ticks": ""
            },
            "colorscale": [
             [
              0,
              "#0d0887"
             ],
             [
              0.1111111111111111,
              "#46039f"
             ],
             [
              0.2222222222222222,
              "#7201a8"
             ],
             [
              0.3333333333333333,
              "#9c179e"
             ],
             [
              0.4444444444444444,
              "#bd3786"
             ],
             [
              0.5555555555555556,
              "#d8576b"
             ],
             [
              0.6666666666666666,
              "#ed7953"
             ],
             [
              0.7777777777777778,
              "#fb9f3a"
             ],
             [
              0.8888888888888888,
              "#fdca26"
             ],
             [
              1,
              "#f0f921"
             ]
            ],
            "type": "histogram2dcontour"
           }
          ],
          "mesh3d": [
           {
            "colorbar": {
             "outlinewidth": 0,
             "ticks": ""
            },
            "type": "mesh3d"
           }
          ],
          "parcoords": [
           {
            "line": {
             "colorbar": {
              "outlinewidth": 0,
              "ticks": ""
             }
            },
            "type": "parcoords"
           }
          ],
          "scatter": [
           {
            "marker": {
             "colorbar": {
              "outlinewidth": 0,
              "ticks": ""
             }
            },
            "type": "scatter"
           }
          ],
          "scatter3d": [
           {
            "line": {
             "colorbar": {
              "outlinewidth": 0,
              "ticks": ""
             }
            },
            "marker": {
             "colorbar": {
              "outlinewidth": 0,
              "ticks": ""
             }
            },
            "type": "scatter3d"
           }
          ],
          "scattercarpet": [
           {
            "marker": {
             "colorbar": {
              "outlinewidth": 0,
              "ticks": ""
             }
            },
            "type": "scattercarpet"
           }
          ],
          "scattergeo": [
           {
            "marker": {
             "colorbar": {
              "outlinewidth": 0,
              "ticks": ""
             }
            },
            "type": "scattergeo"
           }
          ],
          "scattergl": [
           {
            "marker": {
             "colorbar": {
              "outlinewidth": 0,
              "ticks": ""
             }
            },
            "type": "scattergl"
           }
          ],
          "scattermapbox": [
           {
            "marker": {
             "colorbar": {
              "outlinewidth": 0,
              "ticks": ""
             }
            },
            "type": "scattermapbox"
           }
          ],
          "scatterpolar": [
           {
            "marker": {
             "colorbar": {
              "outlinewidth": 0,
              "ticks": ""
             }
            },
            "type": "scatterpolar"
           }
          ],
          "scatterpolargl": [
           {
            "marker": {
             "colorbar": {
              "outlinewidth": 0,
              "ticks": ""
             }
            },
            "type": "scatterpolargl"
           }
          ],
          "scatterternary": [
           {
            "marker": {
             "colorbar": {
              "outlinewidth": 0,
              "ticks": ""
             }
            },
            "type": "scatterternary"
           }
          ],
          "surface": [
           {
            "colorbar": {
             "outlinewidth": 0,
             "ticks": ""
            },
            "colorscale": [
             [
              0,
              "#0d0887"
             ],
             [
              0.1111111111111111,
              "#46039f"
             ],
             [
              0.2222222222222222,
              "#7201a8"
             ],
             [
              0.3333333333333333,
              "#9c179e"
             ],
             [
              0.4444444444444444,
              "#bd3786"
             ],
             [
              0.5555555555555556,
              "#d8576b"
             ],
             [
              0.6666666666666666,
              "#ed7953"
             ],
             [
              0.7777777777777778,
              "#fb9f3a"
             ],
             [
              0.8888888888888888,
              "#fdca26"
             ],
             [
              1,
              "#f0f921"
             ]
            ],
            "type": "surface"
           }
          ],
          "table": [
           {
            "cells": {
             "fill": {
              "color": "#EBF0F8"
             },
             "line": {
              "color": "white"
             }
            },
            "header": {
             "fill": {
              "color": "#C8D4E3"
             },
             "line": {
              "color": "white"
             }
            },
            "type": "table"
           }
          ]
         },
         "layout": {
          "annotationdefaults": {
           "arrowcolor": "#2a3f5f",
           "arrowhead": 0,
           "arrowwidth": 1
          },
          "colorscale": {
           "diverging": [
            [
             0,
             "#8e0152"
            ],
            [
             0.1,
             "#c51b7d"
            ],
            [
             0.2,
             "#de77ae"
            ],
            [
             0.3,
             "#f1b6da"
            ],
            [
             0.4,
             "#fde0ef"
            ],
            [
             0.5,
             "#f7f7f7"
            ],
            [
             0.6,
             "#e6f5d0"
            ],
            [
             0.7,
             "#b8e186"
            ],
            [
             0.8,
             "#7fbc41"
            ],
            [
             0.9,
             "#4d9221"
            ],
            [
             1,
             "#276419"
            ]
           ],
           "sequential": [
            [
             0,
             "#0d0887"
            ],
            [
             0.1111111111111111,
             "#46039f"
            ],
            [
             0.2222222222222222,
             "#7201a8"
            ],
            [
             0.3333333333333333,
             "#9c179e"
            ],
            [
             0.4444444444444444,
             "#bd3786"
            ],
            [
             0.5555555555555556,
             "#d8576b"
            ],
            [
             0.6666666666666666,
             "#ed7953"
            ],
            [
             0.7777777777777778,
             "#fb9f3a"
            ],
            [
             0.8888888888888888,
             "#fdca26"
            ],
            [
             1,
             "#f0f921"
            ]
           ],
           "sequentialminus": [
            [
             0,
             "#0d0887"
            ],
            [
             0.1111111111111111,
             "#46039f"
            ],
            [
             0.2222222222222222,
             "#7201a8"
            ],
            [
             0.3333333333333333,
             "#9c179e"
            ],
            [
             0.4444444444444444,
             "#bd3786"
            ],
            [
             0.5555555555555556,
             "#d8576b"
            ],
            [
             0.6666666666666666,
             "#ed7953"
            ],
            [
             0.7777777777777778,
             "#fb9f3a"
            ],
            [
             0.8888888888888888,
             "#fdca26"
            ],
            [
             1,
             "#f0f921"
            ]
           ]
          },
          "colorway": [
           "#636efa",
           "#EF553B",
           "#00cc96",
           "#ab63fa",
           "#FFA15A",
           "#19d3f3",
           "#FF6692",
           "#B6E880",
           "#FF97FF",
           "#FECB52"
          ],
          "font": {
           "color": "#2a3f5f"
          },
          "geo": {
           "bgcolor": "white",
           "lakecolor": "white",
           "landcolor": "#E5ECF6",
           "showlakes": true,
           "showland": true,
           "subunitcolor": "white"
          },
          "hoverlabel": {
           "align": "left"
          },
          "hovermode": "closest",
          "mapbox": {
           "style": "light"
          },
          "paper_bgcolor": "white",
          "plot_bgcolor": "#E5ECF6",
          "polar": {
           "angularaxis": {
            "gridcolor": "white",
            "linecolor": "white",
            "ticks": ""
           },
           "bgcolor": "#E5ECF6",
           "radialaxis": {
            "gridcolor": "white",
            "linecolor": "white",
            "ticks": ""
           }
          },
          "scene": {
           "xaxis": {
            "backgroundcolor": "#E5ECF6",
            "gridcolor": "white",
            "gridwidth": 2,
            "linecolor": "white",
            "showbackground": true,
            "ticks": "",
            "zerolinecolor": "white"
           },
           "yaxis": {
            "backgroundcolor": "#E5ECF6",
            "gridcolor": "white",
            "gridwidth": 2,
            "linecolor": "white",
            "showbackground": true,
            "ticks": "",
            "zerolinecolor": "white"
           },
           "zaxis": {
            "backgroundcolor": "#E5ECF6",
            "gridcolor": "white",
            "gridwidth": 2,
            "linecolor": "white",
            "showbackground": true,
            "ticks": "",
            "zerolinecolor": "white"
           }
          },
          "shapedefaults": {
           "line": {
            "color": "#2a3f5f"
           }
          },
          "ternary": {
           "aaxis": {
            "gridcolor": "white",
            "linecolor": "white",
            "ticks": ""
           },
           "baxis": {
            "gridcolor": "white",
            "linecolor": "white",
            "ticks": ""
           },
           "bgcolor": "#E5ECF6",
           "caxis": {
            "gridcolor": "white",
            "linecolor": "white",
            "ticks": ""
           }
          },
          "title": {
           "x": 0.05
          },
          "xaxis": {
           "automargin": true,
           "gridcolor": "white",
           "linecolor": "white",
           "ticks": "",
           "zerolinecolor": "white",
           "zerolinewidth": 2
          },
          "yaxis": {
           "automargin": true,
           "gridcolor": "white",
           "linecolor": "white",
           "ticks": "",
           "zerolinecolor": "white",
           "zerolinewidth": 2
          }
         }
        },
        "title": {
         "text": "Most trafficked US airports<br>(Hover for airport names)"
        }
       }
      },
      "text/html": [
       "<div>\n",
       "        \n",
       "        \n",
       "            <div id=\"68b53428-38bf-4134-980d-e3bb3df4ceef\" class=\"plotly-graph-div\" style=\"height:525px; width:100%;\"></div>\n",
       "            <script type=\"text/javascript\">\n",
       "                require([\"plotly\"], function(Plotly) {\n",
       "                    window.PLOTLYENV=window.PLOTLYENV || {};\n",
       "                    \n",
       "                if (document.getElementById(\"68b53428-38bf-4134-980d-e3bb3df4ceef\")) {\n",
       "                    Plotly.newPlot(\n",
       "                        '68b53428-38bf-4134-980d-e3bb3df4ceef',\n",
       "                        [{\"lat\": [41.979595, 33.64044444, 32.89595056, 33.43416667, 39.85840806, 29.98047222, 37.61900194, 33.94253611, 28.42888889, 35.21401111, 40.78838778, 27.97547222, 40.69249722, 36.08036111, 39.87195278, 44.88054694, 47.44898194, 40.77724306, 41.7859825, 38.94453194, 32.73355611, 38.74768694, 42.21205889, 40.63975111, 25.79325, 42.3643475, 38.69542167, 39.17540167, 33.67565861, 29.99338889, 37.36186194, 38.85208333, 45.58872222, 26.53616667, 26.68316194, 35.87763889, 29.64541861, 29.53369444, 26.07258333, 39.29760528, 37.72129083, 40.49146583, 35.04241667, 42.94722222, 41.41089417, 30.49405556, 32.11608333, 39.71732917, 39.49857611, 35.39308833, 41.72399917, 36.19837222, 39.04614278, 39.99798528, 38.17438889, 34.056, 34.72939611, 32.84711389, 41.30251861, 36.89461111, 39.90237583, 43.11886611, 36.28186944, 36.12447667, 35.04022222, 32.31116667, 31.80666667, 37.50516667, 41.93887417, 31.94252778, 30.53316083, 35.81248722, 38.80580556, 30.47330556, 43.11118694, 33.56294306, 42.93451639, 33.82921556, 27.39533333, 27.77036083, 34.6404475, 33.93884, 30.20527972, 34.42621194, 47.61985556, 30.69141667, 37.64995889, 42.94052472, 41.53493306, 40.19349528, 43.64616667, 32.30064417, 37.13189556, 41.06695778, 36.5869825, 42.88081972, 30.448674, 32.65658333, 39.22316, 30.39652778, 30.40728028, 44.04532139, 33.81772222, 34.27061111, 38.03697222, 43.13985778, 44.123259999999995, 32.12758333, 33.66363889, 41.88458833, 34.89566722, 36.09774694, 40.7952425, 41.44852639, 35.43619444, 40.91631194, 40.47798556, 26.22850611, 30.48325, 32.446627500000005, 46.91934889, 40.48118028, 42.37422778, 40.66424333, 27.54373861, 30.19453278, 32.41132, 37.24432611, 42.96550333, 36.47521417, 31.06489778, 32.89864639, 44.48507333, 44.25406722, 32.51633333, 41.70895361, 43.56444444, 33.67975, 48.25937778, 40.03925, 37.32546833, 39.64256778, 43.60732417, 45.77690139, 39.1224125, 34.20061917, 38.03799139, 38.53396333, 43.51455556, 36.77619444, 39.84395194, 26.17583333, 40.50898361, 47.949255, 43.58135111, 42.48180389, 34.89924833, 42.91130556, 31.32133917, 34.82916444, 38.50886722, 46.77411111, 42.90835556, 44.74144472, 32.51086556, 46.26468028, 39.14096722, 31.32737167, 43.41713889, 35.61677778, 42.15614361, 41.50409361, 38.13863889, 30.7825, 44.77761917, 35.65884306, 40.97811528, 31.25902778, 40.85097222, 40.97846583, 44.52019417, 37.06083333, 35.23705806, 41.33814944, 33.45033444, 44.34889806, 35.07297222, 33.369955, 35.33659028, 32.35413889, 46.60681806, 47.48200194, 32.33313333, 46.353639, 37.95375861, 35.03526833, 46.37449806, 37.70097028, 42.74811944, 44.47300361, 48.31140472, 28.10275, 29.17991667, 40.65236278, 46.84209028, 41.155722499999996, 41.5942175, 37.85830556, 38.37315083, 48.79275, 37.62404861, 44.25740806, 36.385913, 27.91076333, 33.98879611, 34.99147222, 44.86525722, 42.40295944, 43.90882639, 34.681499, 45.8076625], \"locationmode\": \"USA-states\", \"lon\": [-87.90446417, -84.42694444, -97.0372, -112.00805559999999, -104.6670019, -95.33972222, -122.3748433, -118.40807439999999, -81.31602778, -80.94312583, -111.9777731, -82.53325, -74.16866056, -115.15233329999998, -75.24114083, -93.2169225, -122.30931310000001, -73.87260917, -87.75242444, -77.45580972, -117.1896567, -90.35998972, -83.34883583, -73.77892556, -80.29055556, -71.00517917, -121.5907669, -76.66819833, -117.86822250000002, -90.25802778, -121.92900890000001, -77.03772222, -122.5975, -81.75516667, -80.09559417, -78.78747222, -95.27888889, -98.46977778, -80.15275, -94.71390556, -122.22071670000001, -80.23287083, -89.97666667, -87.89658333, -81.84939667, -81.68786111, -110.94102779999999, -86.29438417, -119.76806470000001, -97.60073389, -71.42822111, -95.88824167, -84.6621725, -82.89188278, -85.736, -117.60119440000001, -92.22424556, -96.85177222, -95.89417306, -76.20122222, -84.219375, -77.67238389, -94.30681111, -86.67818222, -106.6091944, -90.07588889, -106.37780559999999, -77.31966667, -72.68322833, -102.20191390000001, -91.14963444, -83.99285583, -104.70025, -87.18744444, -76.10631056, -86.75354972, -71.43705583, -116.5062531, -82.55411111, -97.50121528, -86.77310944, -81.11953944, -91.987655, -119.8403733, -117.5338425, -88.24283333, -97.43304583, -78.73216667, -93.66068222, -76.76340361, -70.30875, -86.39397611, -76.4929875, -73.70757444, -121.84294779999999, -85.52276778, -84.550781, -114.60597220000001, -106.868845, -84.35033333, -89.07009278, -103.0573708, -118.1516111, -77.90255556, -84.60538889, -89.33751361, -123.21868559999999, -81.20213889, -101.8227778, -91.71087222, -82.21885833, -79.9372975, -73.10021194, -90.50753917, -82.54180556, -81.44246556, -88.91595278, -97.65439389, -86.5254, -93.82559833, -96.81498889, -107.21765970000001, -122.8734978, -89.69330556, -99.46154361, -97.66987194, -99.68189722, -93.38685806, -83.74345639, -82.40742056, -97.82779778, -80.04050583, -88.12959000000001, -121.1499633, -84.93886111, -86.31847417, -116.22277779999999, -78.92833333, -101.2803339, -88.27805556, -79.97542833, -106.91769529999999, -110.7377389, -111.15300719999999, -108.5267347, -118.3584969, -87.53062667, -106.9331817, -112.07016670000002, -119.7181389, -89.67761861, -98.23861111, -122.2934019, -97.17611111, -96.74170028, -114.4877356, -120.4575825, -112.59586110000001, -85.44962889, -77.61213778, -107.89383329999998, -100.74672220000001, -106.46446609999998, -85.582235, -92.03768778, -119.11902920000001, -96.67083278, -92.54855611, -124.2460278, -106.08813889999999, -121.7332081, -74.10483833, -78.45286111, -83.27672222, -89.66677944, -117.8295122, -124.1086189, -81.46630556, -96.75925, -85.19514639, -109.02379609999998, -88.77375, -120.64239309999999, -75.72426750000001, -88.59136861, -105.5393614, -77.04294444, -81.96449611, -94.36744111, -95.40238611, -111.9827503, -111.37068529999999, -88.75120556, -87.395361, -107.90848000000001, -85.20378778, -117.01539440000002, -113.098575, -73.80297861, -73.1503125, -114.25506940000001, -80.64580556, -81.05805556, -75.44040167, -92.19364861, -104.81183809999999, -109.0651928, -80.39947222, -81.59318972, -122.53752779999999, -118.8377722, -88.51947556, -92.548828, -82.68743944, -98.49189333, -78.88, -91.48507194, -90.70916722, -92.49798722, -90.348816, -108.54286110000001], \"marker\": {\"autocolorscale\": false, \"cmax\": 25129, \"cmin\": 0, \"color\": [25129, 21925, 20662, 17290, 13781, 13223, 12016, 11797, 10536, 10490, 9898, 9182, 8678, 8523, 7965, 7690, 7541, 7392, 6979, 6779, 6233, 6204, 6044, 5945, 5907, 5627, 4943, 4749, 4616, 4432, 4367, 4332, 4071, 4057, 3972, 3896, 3824, 3654, 3616, 3403, 3386, 3180, 3058, 3030, 3015, 3005, 2786, 2136, 2104, 2104, 2044, 2003, 1986, 1752, 1716, 1622, 1620, 1502, 1474, 1439, 1337, 1327, 1310, 1299, 1258, 1224, 1206, 1199, 1162, 1103, 1095, 1052, 1040, 1035, 1006, 956, 953, 949, 932, 926, 880, 840, 818, 800, 785, 768, 747, 711, 708, 702, 686, 686, 675, 664, 658, 656, 653, 627, 611, 608, 582, 572, 562, 553, 540, 538, 529, 524, 518, 516, 479, 472, 460, 451, 448, 445, 426, 414, 410, 410, 409, 408, 404, 404, 396, 393, 382, 381, 379, 347, 346, 338, 333, 328, 324, 324, 319, 314, 310, 306, 301, 296, 295, 288, 285, 280, 270, 270, 264, 264, 258, 248, 248, 246, 245, 225, 216, 216, 214, 212, 210, 208, 208, 201, 199, 168, 168, 168, 168, 168, 168, 159, 158, 158, 156, 146, 144, 140, 127, 114, 112, 112, 112, 112, 112, 112, 112, 112, 112, 110, 108, 108, 104, 104, 104, 104, 102, 96, 93, 91, 90, 74, 72, 60, 58, 56, 56, 56, 56, 56, 56, 56, 56, 52, 50, 50, 48, 48, 37, 32, 23], \"colorbar\": {\"title\": {\"text\": \"Incoming flights<br>February 2011\"}}, \"colorscale\": [[0.0, \"rgb(247,251,255)\"], [0.125, \"rgb(222,235,247)\"], [0.25, \"rgb(198,219,239)\"], [0.375, \"rgb(158,202,225)\"], [0.5, \"rgb(107,174,214)\"], [0.625, \"rgb(66,146,198)\"], [0.75, \"rgb(33,113,181)\"], [0.875, \"rgb(8,81,156)\"], [1.0, \"rgb(8,48,107)\"]], \"line\": {\"color\": \"rgba(102, 102, 102)\", \"width\": 1}, \"opacity\": 0.8, \"reversescale\": true, \"size\": 8, \"symbol\": \"square\"}, \"mode\": \"markers\", \"text\": [\"Chicago O'Hare InternationalChicago, ILArrivals: 25129\", \"William B Hartsfield-Atlanta IntlAtlanta, GAArrivals: 21925\", \"Dallas-Fort Worth InternationalDallas-Fort Worth, TXArrivals: 20662\", \"Phoenix Sky Harbor InternationalPhoenix, AZArrivals: 17290\", \"Denver IntlDenver, COArrivals: 13781\", \"George Bush IntercontinentalHouston, TXArrivals: 13223\", \"San Francisco InternationalSan Francisco, CAArrivals: 12016\", \"Los Angeles InternationalLos Angeles, CAArrivals: 11797\", \"Orlando InternationalOrlando, FLArrivals: 10536\", \"Charlotte/Douglas InternationalCharlotte, NCArrivals: 10490\", \"Salt Lake City IntlSalt Lake City, UTArrivals: 9898\", \"Tampa International Tampa, FLArrivals: 9182\", \"Newark IntlNewark, NJArrivals: 8678\", \"McCarran InternationalLas Vegas, NVArrivals: 8523\", \"Philadelphia IntlPhiladelphia, PAArrivals: 7965\", \"Minneapolis-St Paul IntlMinneapolis, MNArrivals: 7690\", \"Seattle-Tacoma IntlSeattle, WAArrivals: 7541\", \"LaGuardiaNew York, NYArrivals: 7392\", \"Chicago MidwayChicago, ILArrivals: 6979\", \"Washington Dulles InternationalChantilly, VAArrivals: 6779\", \"San Diego International-Lindbergh San Diego, CAArrivals: 6233\", \"Lambert-St Louis InternationalSt Louis, MOArrivals: 6204\", \"Detroit Metropolitan-Wayne CountyDetroit, MIArrivals: 6044\", \"John F Kennedy IntlNew York, NYArrivals: 5945\", \"Miami InternationalMiami, FLArrivals: 5907\", \"Gen Edw L Logan IntlBoston, MAArrivals: 5627\", \"Sacramento InternationalSacramento, CAArrivals: 4943\", \"Baltimore-Washington InternationalBaltimore, MDArrivals: 4749\", \"John Wayne /Orange CoSanta Ana, CAArrivals: 4616\", \"New Orleans International New Orleans, LAArrivals: 4432\", \"San Jose InternationalSan Jose, CAArrivals: 4367\", \"Ronald Reagan Washington NationalArlington, VAArrivals: 4332\", \"Portland IntlPortland, ORArrivals: 4071\", \"Southwest Florida InternationalFt. Myers, FLArrivals: 4057\", \"Palm Beach InternationalWest Palm Beach, FLArrivals: 3972\", \"Raleigh-Durham InternationalRaleigh, NCArrivals: 3896\", \"William P HobbyHouston, TXArrivals: 3824\", \"San Antonio InternationalSan Antonio, TXArrivals: 3654\", \"Fort Lauderdale-Hollywood Int'lFt. Lauderdale, FLArrivals: 3616\", \"Kansas City InternationalKansas City, MOArrivals: 3403\", \"Metropolitan Oakland InternationalOakland, CAArrivals: 3386\", \"Pittsburgh InternationalPittsburgh, PAArrivals: 3180\", \"Memphis InternationalMemphis, TNArrivals: 3058\", \"General Mitchell InternationalMilwaukee, WIArrivals: 3030\", \"Cleveland-Hopkins IntlCleveland, OHArrivals: 3015\", \"Jacksonville InternationalJacksonville, FLArrivals: 3005\", \"Tucson InternationalTucson, AZArrivals: 2786\", \"Indianapolis InternationalIndianapolis, INArrivals: 2136\", \"Reno/Tahoe InternationalReno, NVArrivals: 2104\", \"Will Rogers WorldOklahoma City, OKArrivals: 2104\", \"Theodore F Green StateProvidence, RIArrivals: 2044\", \"Tulsa InternationalTulsa, OKArrivals: 2003\", \"Cincinnati Northern Kentucky IntlCovington, KYArrivals: 1986\", \"Port Columbus IntlColumbus, OHArrivals: 1752\", \"Louisville International-Standiford Louisville, KYArrivals: 1716\", \"Ontario InternationalOntario, CAArrivals: 1622\", \"Adams Little Rock, ARArrivals: 1620\", \"Dallas Love Dallas, TXArrivals: 1502\", \"Eppley AirfieldOmaha, NEArrivals: 1474\", \"Norfolk InternationalNorfolk, VAArrivals: 1439\", \"James M Cox Dayton IntlDayton, OHArrivals: 1337\", \"Greater Rochester Int'lRochester, NYArrivals: 1327\", \"Northwest Arkansas RegionalFayetteville/Springdale/Rogers, ARArrivals: 1310\", \"Nashville InternationalNashville, TNArrivals: 1299\", \"Albuquerque InternationalAlbuquerque, NMArrivals: 1258\", \"Jackson InternationalJackson, MSArrivals: 1224\", \"El Paso InternationalEl Paso, TXArrivals: 1206\", \"Richmond InternationalRichmond, VAArrivals: 1199\", \"Bradley InternationalWindsor Locks, CTArrivals: 1162\", \"Midland InternationalMidland, TXArrivals: 1103\", \"Baton Rouge Metropolitan, Ryan Baton Rouge, LAArrivals: 1095\", \"McGhee-TysonKnoxville, TNArrivals: 1052\", \"City of Colorado Springs MuniColorado Springs, COArrivals: 1040\", \"Pensacola RegionalPensacola, FLArrivals: 1035\", \"Syracuse-Hancock IntlSyracuse, NYArrivals: 1006\", \"Birmingham InternationalBirmingham, ALArrivals: 956\", \"ManchesterManchester, NHArrivals: 953\", \"Palm Springs InternationalPalm Springs, CAArrivals: 949\", \"Sarasota Bradenton InternationalSarasota, FLArrivals: 932\", \"Corpus Christi InternationalCorpus Christi, TXArrivals: 926\", \"Huntsville International Huntsville, ALArrivals: 880\", \"Columbia MetropolitanColumbia, SCArrivals: 840\", \"Lafayette RegionalLafayette, LAArrivals: 818\", \"Santa Barbara MunicipalSanta Barbara, CAArrivals: 800\", \"Spokane IntlSpokane, WAArrivals: 785\", \"Mobile RegionalMobile, ALArrivals: 768\", \"Wichita Mid-ContinentWichita, KSArrivals: 747\", \"Buffalo Niagara IntlBuffalo, NYArrivals: 711\", \"Des Moines InternationalDes Moines, IAArrivals: 708\", \"Harrisburg IntlHarrisburg, PAArrivals: 702\", \"Portland International JetportPortland, MEArrivals: 686\", \"Montgomery Regional AptMontgomery, ALArrivals: 686\", \"Newport News/Williamsburg InternationalNewport News, VAArrivals: 675\", \"Westchester CtyWhite Plains, NYArrivals: 664\", \"Monterey PeninsulaMonterey, CAArrivals: 658\", \"Kent County InternationalGrand Rapids, MIArrivals: 656\", \"Florida BeachBeaches, FLArrivals: 653\", \"Yuma MCAS-Yuma InternationalYuma, AZArrivals: 627\", \"Aspen-Pitkin Co/Sardy Aspen, COArrivals: 611\", \"Tallahassee RegionalTallahassee, FLArrivals: 608\", \"Gulfport-Biloxi RegionalGulfport-Biloxi, MSArrivals: 582\", \"Rapid City RegionalRapid City, SDArrivals: 572\", \"Long Beach (Daugherty )Long Beach, CAArrivals: 562\", \"Wilmington InternationalWilmington, NCArrivals: 553\", \"Blue Grass Lexington, KYArrivals: 540\", \"Dane County RegionalMadison, WIArrivals: 538\", \"Mahlon Sweet Eugene, ORArrivals: 529\", \"Savannah InternationalSavannah, GAArrivals: 524\", \"Lubbock InternationalLubbock, TXArrivals: 518\", \"Eastern Iowa Cedar Rapids, IAArrivals: 516\", \"Greenville-SpartanburgGreer, SCArrivals: 479\", \"Piedmont Triad InternationalGreensboro, NCArrivals: 472\", \"Long Island - MacArthurIslip, NYArrivals: 460\", \"Quad CityMoline, ILArrivals: 451\", \"Asheville RegionalAsheville, NCArrivals: 448\", \"Akron-Canton RegionalAkron, OHArrivals: 445\", \"Central Illinois RegionalBloomington, ILArrivals: 426\", \"Valley InternationalHarlingen, TXArrivals: 414\", \"Eglin Air Force BaseValparaiso, FLArrivals: 410\", \"Shreveport RegionalShreveport, LAArrivals: 410\", \"Hector InternationalFargo, NDArrivals: 409\", \"Yampa ValleyHayden, COArrivals: 408\", \"Rogue Valley InternationalMedford, ORArrivals: 404\", \"Greater Peoria RegionalPeoria, ILArrivals: 404\", \"Laredo InternationalLaredo, TXArrivals: 396\", \"Austin-Bergstrom InternationalAustin, TXArrivals: 393\", \"Abilene RegionalAbilene, TXArrivals: 382\", \"Springfield-Branson RegionalSpringfield, MOArrivals: 381\", \"BishopFlint, MIArrivals: 379\", \"Tri-Cities RegionalBristol, TNArrivals: 347\", \"Robert Gray AAFKilleen, TXArrivals: 346\", \"Charleston AFB/InternationalCharleston, SCArrivals: 338\", \"Austin Straubel InternationalGreen Bay, WIArrivals: 333\", \"Roberts Redmond, ORArrivals: 328\", \"Columbus MetropolitanColumbus, GAArrivals: 324\", \"South Bend RegionalSouth Bend, INArrivals: 324\", \"Boise Air TerminalBoise, IDArrivals: 319\", \"Myrtle Beach InternationalMyrtle Beach, SCArrivals: 314\", \"Minot InternationalMinot, NDArrivals: 310\", \"University of Illinois-WillardChampaign/Urbana, ILArrivals: 306\", \"Roanoke Regional/ Woodrum Roanoke, VAArrivals: 301\", \"Eagle County RegionalEagle, COArrivals: 296\", \"Jackson HoleJackson, WYArrivals: 295\", \"Gallatin Bozeman, MTArrivals: 288\", \"Walker Grand Junction, COArrivals: 285\", \"Burbank-Glendale-PasadenaBurbank, CAArrivals: 280\", \"Evansville RegionalEvansville, INArrivals: 270\", \"Gunnison CountyGunnison, COArrivals: 270\", \"Idaho Falls RegionalIdaho Falls, IDArrivals: 264\", \"Fresno Yosemite InternationalFresno, CAArrivals: 264\", \"CapitalSpringfield, ILArrivals: 258\", \"McAllen Miller InternationalMcAllen, TXArrivals: 248\", \"Redding MunicipalRedding, CAArrivals: 248\", \"Grand Forks InternationalGrand Forks, NDArrivals: 246\", \"Joe Foss Sioux Falls, SDArrivals: 245\", \"Joslin Field - Magic ValleyTwin Falls, IDArrivals: 225\", \"Santa Maria Pub/Capt G Allan Hancock Santa Maria, CAArrivals: 216\", \"Pocatello RegionalPocatello, IDArrivals: 216\", \"Dothan Dothan, ALArrivals: 214\", \"Albert J EllisJacksonville, NCArrivals: 212\", \"Montrose RegionalMontrose, COArrivals: 210\", \"Bismarck MunicipalBismarck, NDArrivals: 208\", \"Natrona County IntlCasper, WYArrivals: 208\", \"Cherry CapitalTraverse City, MIArrivals: 201\", \"Monroe RegionalMonroe, LAArrivals: 199\", \"Tri-CitiesPasco, WAArrivals: 168\", \"Manhattan RegionalManhattan, KSArrivals: 168\", \"Alexandria InternationalAlexandria, LAArrivals: 168\", \"North Bend MuniNorth Bend, ORArrivals: 168\", \"Santa Fe MunicipalSanta Fe, NMArrivals: 168\", \"Klamath Falls InternationalKlamath Falls, ORArrivals: 168\", \"StewartNewburgh, NYArrivals: 159\", \"Charlottesville-AlbermarleCharlottesville, VAArrivals: 158\", \"Valdosta RegionalValdosta, GAArrivals: 158\", \"Central WisconsinMosinee, WIArrivals: 156\", \"InyokernInyokern, CAArrivals: 146\", \"ArcataArcata/Eureka, CAArrivals: 144\", \"Glynco JetportBrunswick, GAArrivals: 140\", \"Lincoln MunicipalLincoln, NEArrivals: 127\", \"Fort Wayne InternationalFort Wayne, INArrivals: 114\", \"Yellowstone RegionalCody, WYArrivals: 112\", \"Barkley RegionalPaducah, KYArrivals: 112\", \"San Luis Obispo Co-McChesney San Luis Obispo, CAArrivals: 112\", \"Wilkes-Barre/Scranton IntlWilkes-Barre/Scranton, PAArrivals: 112\", \"Golden Triangle RegionalColumbus-Starkville-West Point, MSArrivals: 112\", \"Gillette-Campbell CountyGillette, WYArrivals: 112\", \"Craven County RegionalNew Bern, NCArrivals: 112\", \"Bush Augusta, GAArrivals: 112\", \"Fort Smith RegionalFort Smith, ARArrivals: 112\", \"Tyler Pounds Tyler, TXArrivals: 110\", \"Helena RegionalHelena, MTArrivals: 108\", \"Great Falls IntlGreat Falls, MTArrivals: 108\", \"Key Meridian, MSArrivals: 104\", null, \"Telluride RegionalTelluride, COArrivals: 104\", \"Lovell Chattanooga, TNArrivals: 104\", \"Lewiston-Nez Perce CountyLewiston, IDArrivals: 102\", \"Cedar City MuniCedar City, UTArrivals: 96\", \"Albany CtyAlbany, NYArrivals: 93\", \"Burlington InternationalBurlington, VTArrivals: 91\", \"Glacier Park IntlKalispell, MTArrivals: 90\", \"Melbourne International Melbourne, FLArrivals: 74\", \"Daytona Beach InternationalDaytona Beach, FLArrivals: 72\", \"Lehigh Valley InternationalAllentown, PAArrivals: 60\", \"Duluth InternationalDuluth, MNArrivals: 58\", \"CheyenneCheyenne, WYArrivals: 56\", \"Rock Springs-Sweetwater CountyRock Springs, WYArrivals: 56\", \"Greenbrier ValleyLewisburg, WVArrivals: 56\", \"YeagerCharleston, WVArrivals: 56\", \"Bellingham IntlBellingham, WAArrivals: 56\", \"Mammoth YosemiteMammoth Lakes, CAArrivals: 56\", \"Outagamie County RegionalAppleton, WIArrivals: 56\", \"Branson AirportHollister, MOArrivals: 56\", \"St. Petersburg-Clearwater InternationalSt. Petersburg, FLArrivals: 52\", \"Sheppard AFB/Wichita Falls MunicipalWichita Falls, TXArrivals: 50\", \"Fayetteville MunicipalFayetteville, NCArrivals: 50\", \"Chippewa Valley RegionalEau Claire, WIArrivals: 48\", \"Dubuque MunicipalDubuque, IAArrivals: 48\", \"Rochester InternationalRochester, MNArrivals: 37\", \"Tunica Municipal AirportTunica, MSArrivals: 32\", \"Billings Logan IntlBillings, MTArrivals: 23\"], \"type\": \"scattergeo\"}],\n",
       "                        {\"geo\": {\"countrycolor\": \"rgb(217, 217, 217)\", \"countrywidth\": 0.5, \"landcolor\": \"rgb(250, 250, 250)\", \"projection\": {\"type\": \"albers usa\"}, \"scope\": \"usa\", \"showland\": true, \"subunitcolor\": \"rgb(217, 217, 217)\", \"subunitwidth\": 0.5}, \"template\": {\"data\": {\"bar\": [{\"error_x\": {\"color\": \"#2a3f5f\"}, \"error_y\": {\"color\": \"#2a3f5f\"}, \"marker\": {\"line\": {\"color\": \"#E5ECF6\", \"width\": 0.5}}, \"type\": \"bar\"}], \"barpolar\": [{\"marker\": {\"line\": {\"color\": \"#E5ECF6\", \"width\": 0.5}}, \"type\": \"barpolar\"}], \"carpet\": [{\"aaxis\": {\"endlinecolor\": \"#2a3f5f\", \"gridcolor\": \"white\", \"linecolor\": \"white\", \"minorgridcolor\": \"white\", \"startlinecolor\": \"#2a3f5f\"}, \"baxis\": {\"endlinecolor\": \"#2a3f5f\", \"gridcolor\": \"white\", \"linecolor\": \"white\", \"minorgridcolor\": \"white\", \"startlinecolor\": \"#2a3f5f\"}, \"type\": \"carpet\"}], \"choropleth\": [{\"colorbar\": {\"outlinewidth\": 0, \"ticks\": \"\"}, \"type\": \"choropleth\"}], \"contour\": [{\"colorbar\": {\"outlinewidth\": 0, \"ticks\": \"\"}, \"colorscale\": [[0.0, \"#0d0887\"], [0.1111111111111111, \"#46039f\"], [0.2222222222222222, \"#7201a8\"], [0.3333333333333333, \"#9c179e\"], [0.4444444444444444, \"#bd3786\"], [0.5555555555555556, \"#d8576b\"], [0.6666666666666666, \"#ed7953\"], [0.7777777777777778, \"#fb9f3a\"], [0.8888888888888888, \"#fdca26\"], [1.0, \"#f0f921\"]], \"type\": \"contour\"}], \"contourcarpet\": [{\"colorbar\": {\"outlinewidth\": 0, \"ticks\": \"\"}, \"type\": \"contourcarpet\"}], \"heatmap\": [{\"colorbar\": {\"outlinewidth\": 0, \"ticks\": \"\"}, \"colorscale\": [[0.0, \"#0d0887\"], [0.1111111111111111, \"#46039f\"], [0.2222222222222222, \"#7201a8\"], [0.3333333333333333, \"#9c179e\"], [0.4444444444444444, \"#bd3786\"], [0.5555555555555556, \"#d8576b\"], [0.6666666666666666, \"#ed7953\"], [0.7777777777777778, \"#fb9f3a\"], [0.8888888888888888, \"#fdca26\"], [1.0, \"#f0f921\"]], \"type\": \"heatmap\"}], \"heatmapgl\": [{\"colorbar\": {\"outlinewidth\": 0, \"ticks\": \"\"}, \"colorscale\": [[0.0, \"#0d0887\"], [0.1111111111111111, \"#46039f\"], [0.2222222222222222, \"#7201a8\"], [0.3333333333333333, \"#9c179e\"], [0.4444444444444444, \"#bd3786\"], [0.5555555555555556, \"#d8576b\"], [0.6666666666666666, \"#ed7953\"], [0.7777777777777778, \"#fb9f3a\"], [0.8888888888888888, \"#fdca26\"], [1.0, \"#f0f921\"]], \"type\": \"heatmapgl\"}], \"histogram\": [{\"marker\": {\"colorbar\": {\"outlinewidth\": 0, \"ticks\": \"\"}}, \"type\": \"histogram\"}], \"histogram2d\": [{\"colorbar\": {\"outlinewidth\": 0, \"ticks\": \"\"}, \"colorscale\": [[0.0, \"#0d0887\"], [0.1111111111111111, \"#46039f\"], [0.2222222222222222, \"#7201a8\"], [0.3333333333333333, \"#9c179e\"], [0.4444444444444444, \"#bd3786\"], [0.5555555555555556, \"#d8576b\"], [0.6666666666666666, \"#ed7953\"], [0.7777777777777778, \"#fb9f3a\"], [0.8888888888888888, \"#fdca26\"], [1.0, \"#f0f921\"]], \"type\": \"histogram2d\"}], \"histogram2dcontour\": [{\"colorbar\": {\"outlinewidth\": 0, \"ticks\": \"\"}, \"colorscale\": [[0.0, \"#0d0887\"], [0.1111111111111111, \"#46039f\"], [0.2222222222222222, \"#7201a8\"], [0.3333333333333333, \"#9c179e\"], [0.4444444444444444, \"#bd3786\"], [0.5555555555555556, \"#d8576b\"], [0.6666666666666666, \"#ed7953\"], [0.7777777777777778, \"#fb9f3a\"], [0.8888888888888888, \"#fdca26\"], [1.0, \"#f0f921\"]], \"type\": \"histogram2dcontour\"}], \"mesh3d\": [{\"colorbar\": {\"outlinewidth\": 0, \"ticks\": \"\"}, \"type\": \"mesh3d\"}], \"parcoords\": [{\"line\": {\"colorbar\": {\"outlinewidth\": 0, \"ticks\": \"\"}}, \"type\": \"parcoords\"}], \"scatter\": [{\"marker\": {\"colorbar\": {\"outlinewidth\": 0, \"ticks\": \"\"}}, \"type\": \"scatter\"}], \"scatter3d\": [{\"line\": {\"colorbar\": {\"outlinewidth\": 0, \"ticks\": \"\"}}, \"marker\": {\"colorbar\": {\"outlinewidth\": 0, \"ticks\": \"\"}}, \"type\": \"scatter3d\"}], \"scattercarpet\": [{\"marker\": {\"colorbar\": {\"outlinewidth\": 0, \"ticks\": \"\"}}, \"type\": \"scattercarpet\"}], \"scattergeo\": [{\"marker\": {\"colorbar\": {\"outlinewidth\": 0, \"ticks\": \"\"}}, \"type\": \"scattergeo\"}], \"scattergl\": [{\"marker\": {\"colorbar\": {\"outlinewidth\": 0, \"ticks\": \"\"}}, \"type\": \"scattergl\"}], \"scattermapbox\": [{\"marker\": {\"colorbar\": {\"outlinewidth\": 0, \"ticks\": \"\"}}, \"type\": \"scattermapbox\"}], \"scatterpolar\": [{\"marker\": {\"colorbar\": {\"outlinewidth\": 0, \"ticks\": \"\"}}, \"type\": \"scatterpolar\"}], \"scatterpolargl\": [{\"marker\": {\"colorbar\": {\"outlinewidth\": 0, \"ticks\": \"\"}}, \"type\": \"scatterpolargl\"}], \"scatterternary\": [{\"marker\": {\"colorbar\": {\"outlinewidth\": 0, \"ticks\": \"\"}}, \"type\": \"scatterternary\"}], \"surface\": [{\"colorbar\": {\"outlinewidth\": 0, \"ticks\": \"\"}, \"colorscale\": [[0.0, \"#0d0887\"], [0.1111111111111111, \"#46039f\"], [0.2222222222222222, \"#7201a8\"], [0.3333333333333333, \"#9c179e\"], [0.4444444444444444, \"#bd3786\"], [0.5555555555555556, \"#d8576b\"], [0.6666666666666666, \"#ed7953\"], [0.7777777777777778, \"#fb9f3a\"], [0.8888888888888888, \"#fdca26\"], [1.0, \"#f0f921\"]], \"type\": \"surface\"}], \"table\": [{\"cells\": {\"fill\": {\"color\": \"#EBF0F8\"}, \"line\": {\"color\": \"white\"}}, \"header\": {\"fill\": {\"color\": \"#C8D4E3\"}, \"line\": {\"color\": \"white\"}}, \"type\": \"table\"}]}, \"layout\": {\"annotationdefaults\": {\"arrowcolor\": \"#2a3f5f\", \"arrowhead\": 0, \"arrowwidth\": 1}, \"colorscale\": {\"diverging\": [[0, \"#8e0152\"], [0.1, \"#c51b7d\"], [0.2, \"#de77ae\"], [0.3, \"#f1b6da\"], [0.4, \"#fde0ef\"], [0.5, \"#f7f7f7\"], [0.6, \"#e6f5d0\"], [0.7, \"#b8e186\"], [0.8, \"#7fbc41\"], [0.9, \"#4d9221\"], [1, \"#276419\"]], \"sequential\": [[0.0, \"#0d0887\"], [0.1111111111111111, \"#46039f\"], [0.2222222222222222, \"#7201a8\"], [0.3333333333333333, \"#9c179e\"], [0.4444444444444444, \"#bd3786\"], [0.5555555555555556, \"#d8576b\"], [0.6666666666666666, \"#ed7953\"], [0.7777777777777778, \"#fb9f3a\"], [0.8888888888888888, \"#fdca26\"], [1.0, \"#f0f921\"]], \"sequentialminus\": [[0.0, \"#0d0887\"], [0.1111111111111111, \"#46039f\"], [0.2222222222222222, \"#7201a8\"], [0.3333333333333333, \"#9c179e\"], [0.4444444444444444, \"#bd3786\"], [0.5555555555555556, \"#d8576b\"], [0.6666666666666666, \"#ed7953\"], [0.7777777777777778, \"#fb9f3a\"], [0.8888888888888888, \"#fdca26\"], [1.0, \"#f0f921\"]]}, \"colorway\": [\"#636efa\", \"#EF553B\", \"#00cc96\", \"#ab63fa\", \"#FFA15A\", \"#19d3f3\", \"#FF6692\", \"#B6E880\", \"#FF97FF\", \"#FECB52\"], \"font\": {\"color\": \"#2a3f5f\"}, \"geo\": {\"bgcolor\": \"white\", \"lakecolor\": \"white\", \"landcolor\": \"#E5ECF6\", \"showlakes\": true, \"showland\": true, \"subunitcolor\": \"white\"}, \"hoverlabel\": {\"align\": \"left\"}, \"hovermode\": \"closest\", \"mapbox\": {\"style\": \"light\"}, \"paper_bgcolor\": \"white\", \"plot_bgcolor\": \"#E5ECF6\", \"polar\": {\"angularaxis\": {\"gridcolor\": \"white\", \"linecolor\": \"white\", \"ticks\": \"\"}, \"bgcolor\": \"#E5ECF6\", \"radialaxis\": {\"gridcolor\": \"white\", \"linecolor\": \"white\", \"ticks\": \"\"}}, \"scene\": {\"xaxis\": {\"backgroundcolor\": \"#E5ECF6\", \"gridcolor\": \"white\", \"gridwidth\": 2, \"linecolor\": \"white\", \"showbackground\": true, \"ticks\": \"\", \"zerolinecolor\": \"white\"}, \"yaxis\": {\"backgroundcolor\": \"#E5ECF6\", \"gridcolor\": \"white\", \"gridwidth\": 2, \"linecolor\": \"white\", \"showbackground\": true, \"ticks\": \"\", \"zerolinecolor\": \"white\"}, \"zaxis\": {\"backgroundcolor\": \"#E5ECF6\", \"gridcolor\": \"white\", \"gridwidth\": 2, \"linecolor\": \"white\", \"showbackground\": true, \"ticks\": \"\", \"zerolinecolor\": \"white\"}}, \"shapedefaults\": {\"line\": {\"color\": \"#2a3f5f\"}}, \"ternary\": {\"aaxis\": {\"gridcolor\": \"white\", \"linecolor\": \"white\", \"ticks\": \"\"}, \"baxis\": {\"gridcolor\": \"white\", \"linecolor\": \"white\", \"ticks\": \"\"}, \"bgcolor\": \"#E5ECF6\", \"caxis\": {\"gridcolor\": \"white\", \"linecolor\": \"white\", \"ticks\": \"\"}}, \"title\": {\"x\": 0.05}, \"xaxis\": {\"automargin\": true, \"gridcolor\": \"white\", \"linecolor\": \"white\", \"ticks\": \"\", \"zerolinecolor\": \"white\", \"zerolinewidth\": 2}, \"yaxis\": {\"automargin\": true, \"gridcolor\": \"white\", \"linecolor\": \"white\", \"ticks\": \"\", \"zerolinecolor\": \"white\", \"zerolinewidth\": 2}}}, \"title\": {\"text\": \"Most trafficked US airports<br>(Hover for airport names)\"}},\n",
       "                        {\"responsive\": true}\n",
       "                    ).then(function(){\n",
       "                            \n",
       "var gd = document.getElementById('68b53428-38bf-4134-980d-e3bb3df4ceef');\n",
       "var x = new MutationObserver(function (mutations, observer) {{\n",
       "        var display = window.getComputedStyle(gd).display;\n",
       "        if (!display || display === 'none') {{\n",
       "            console.log([gd, 'removed!']);\n",
       "            Plotly.purge(gd);\n",
       "            observer.disconnect();\n",
       "        }}\n",
       "}});\n",
       "\n",
       "// Listen for the removal of the full notebook cells\n",
       "var notebookContainer = gd.closest('#notebook-container');\n",
       "if (notebookContainer) {{\n",
       "    x.observe(notebookContainer, {childList: true});\n",
       "}}\n",
       "\n",
       "// Listen for the clearing of the current output cell\n",
       "var outputEl = gd.closest('.output');\n",
       "if (outputEl) {{\n",
       "    x.observe(outputEl, {childList: true});\n",
       "}}\n",
       "\n",
       "                        })\n",
       "                };\n",
       "                });\n",
       "            </script>\n",
       "        </div>"
      ]
     },
     "metadata": {},
     "output_type": "display_data"
    }
   ],
   "source": [
    "df = pd.read_csv('https://raw.githubusercontent.com/plotly/datasets/master/2011_february_us_airport_traffic.csv')\n",
    "df['text'] = df['airport'] + '' + df['city'] + ', ' + df['state'] + '' + 'Arrivals: ' + df['cnt'].astype(str)\n",
    "\n",
    "\n",
    "fig = go.Figure(data=go.Scattergeo(\n",
    "        locationmode = 'USA-states',\n",
    "        lon = df['long'],\n",
    "        lat = df['lat'],\n",
    "        text = df['text'],\n",
    "        mode = 'markers',\n",
    "        marker = dict(\n",
    "            size = 8,\n",
    "            opacity = 0.8,\n",
    "            reversescale = True,\n",
    "            autocolorscale = False,\n",
    "            symbol = 'square',\n",
    "            line = dict(\n",
    "                width=1,\n",
    "                color='rgba(102, 102, 102)'\n",
    "            ),\n",
    "            colorscale = 'Blues',\n",
    "            cmin = 0,\n",
    "            color = df['cnt'],\n",
    "            cmax = df['cnt'].max(),\n",
    "            colorbar_title=\"Incoming flights<br>February 2011\"\n",
    "        )))\n",
    "\n",
    "fig.update_layout(\n",
    "        title = 'Most trafficked US airports<br>(Hover for airport names)',\n",
    "        geo = dict(\n",
    "            scope='usa',\n",
    "            projection_type='albers usa',\n",
    "            showland = True,\n",
    "            landcolor = \"rgb(250, 250, 250)\",\n",
    "            subunitcolor = \"rgb(217, 217, 217)\",\n",
    "            countrycolor = \"rgb(217, 217, 217)\",\n",
    "            countrywidth = 0.5,\n",
    "            subunitwidth = 0.5\n",
    "        ),\n",
    "    )\n",
    "fig.show()"
   ]
  },
  {
   "cell_type": "code",
   "execution_count": 104,
   "metadata": {},
   "outputs": [],
   "source": [
    "df = make_dataset.add_random_lat_lon(df, [-3, -62])"
   ]
  },
  {
   "cell_type": "code",
   "execution_count": 105,
   "metadata": {},
   "outputs": [
    {
     "data": {
      "application/vnd.plotly.v1+json": {
       "config": {
        "plotlyServerURL": "https://plot.ly"
       },
       "data": [
        {
         "lat": [
          0.9933214833406141,
          -4.485117775120793,
          -0.009372191286845855,
          -2.984744910780455,
          2.7606478722321857,
          -2.7876456962946223,
          -3.4629979827247097,
          0.4164165913942197,
          -2.7971309317913127,
          -2.684195916035252,
          -2.638343686460536,
          -6.926526531884074,
          -2.465118045405075,
          -2.4625011049539047,
          -1.9165618318201785,
          3.048452162770986,
          -0.9623137501695922,
          -3.268942208501408,
          -7.812293918951246,
          -3.7142672051882695,
          -3.431626814905232,
          -4.5158031386008455,
          -7.769374621680549,
          -3.4006491854156766,
          -3.2286465556982846,
          -4.932964972514625,
          -3.6718059701588643,
          0.01984349688543796,
          -1.5915132482537653,
          -1.6240459427237028,
          0.6507094678274816,
          -3.1125061405842054,
          -3.597315962453581,
          -3.2184029536678476,
          -4.0096588713574075,
          -2.7672448466909745,
          -0.9566425161736856,
          0.02026050687722325,
          -5.786019290338885,
          -5.166593563648175,
          -6.482866179117415,
          -7.09577972630133,
          -6.113565242802093,
          1.8960000920911302,
          -1.1187377765282605,
          -3.997434578958524,
          -3.1907277797093685,
          -5.730584614857346,
          -4.11633244282846,
          -1.6560214309655412,
          -4.773999928249523,
          -1.9657285611082935,
          -2.1411764361819605,
          -2.41986937845621,
          -1.448415356238978,
          -1.878496450022297,
          -0.1918025078977892,
          1.7018141326907212,
          -6.360391734642411,
          0.1890082864849414,
          -4.573463287819193,
          -2.7384960281146635,
          -2.2122692210743686,
          -2.005274594330995,
          -1.1223614208761665,
          -3.468910250315324,
          -1.9372984371519895,
          -2.355372415700548,
          -2.741762497340348,
          -3.2596606566003627,
          -3.237994550041126,
          -1.721237447657808,
          -1.1008170795057586,
          -6.151661633497399,
          -1.2361310919191852,
          -4.218722570753501,
          1.9439829247454163,
          -4.099666309781699,
          -0.3711901816243772,
          -4.981426180260991,
          -5.504410637361868,
          -5.477899920874609,
          -1.7204218752896092,
          -3.843958276879228,
          -4.015923191430256,
          -0.7762758181724316,
          -0.1150028314066498,
          -2.3704616673622536,
          -3.686981703492594,
          -3.191775839763546,
          -1.3811307121589405,
          -2.430154442109238,
          -5.780024474554365,
          -6.746000042019311,
          -2.2137815053599215,
          -2.2667509269778447,
          -3.3561507686760694,
          0.28334660679566825,
          -5.369674286917845,
          -2.9878918663885417,
          -2.83445007714305,
          -1.6390638729848008,
          -1.711013982329001,
          -3.0734261011017576,
          -1.469006021593687,
          0.35064197897378957,
          -2.5397835009106395,
          -5.209465515675067,
          3.6358832351884143,
          -4.518899093562038,
          2.249799828790099,
          -4.591059348166052,
          -0.9783709340140243,
          -3.8521115052295505,
          -5.169343315634821,
          -1.3870725466465765,
          -5.1893335607823525,
          -6.101902232076387,
          -2.400652663823023,
          -2.3977762088296206,
          -4.687453874420157,
          0.31013607189434156,
          -3.8942573062389374,
          -5.118920122556467,
          0.240477608511815,
          -2.6311975935952803,
          -0.343348448363507,
          -1.1751070689539767,
          -5.754547774019967,
          -3.415207875791003,
          -4.676320185642323,
          -0.955023676037607,
          -2.776891963788454,
          -4.256924788294768,
          -2.302999162858766,
          -5.4838373663529065,
          -3.772257465824697,
          -3.3090754457206026,
          -1.7508541126504926,
          -2.3356998021934356,
          1.1264101623103473,
          -5.820480034074594,
          -2.796217549041372,
          -1.902935640081387,
          -2.3106032030998165,
          -0.9611483375327481,
          -5.196379700026155,
          -4.108728655350022,
          -6.370345074211578,
          -10.405974840190751,
          0.25708689161958187,
          -2.3483925385159456,
          -3.6783832526847293,
          -6.810269393592785,
          0.006920380454287667,
          -0.30833040811499846,
          1.5479145214791714,
          -1.7009190498946611,
          -1.277701174464964,
          -4.745292935257625,
          -2.6016556956473758,
          -3.373042426487227,
          -3.697154152325101,
          -1.0493365002056552,
          -2.2510150206452653,
          -0.5802780413988251,
          -4.449685579604515,
          -3.9225497835542997,
          -4.937729079217072,
          0.15495091040751152,
          -0.7766652066488464,
          -3.260056005831376,
          -4.622716690420305,
          -4.916799876268575,
          -4.9852766763426395,
          -1.911154686234206,
          -4.8995833167177505,
          -4.414702349326934,
          -2.873783078465532,
          -5.395528858197942,
          -5.091015540574819,
          -2.5915746785713223,
          -0.5689996497310226,
          -5.358181803969695,
          -2.4351587011096236,
          -4.584649571729679,
          -5.52867630121486,
          -4.8820986288142265,
          -3.365238184906794,
          -3.4829157493091407,
          -5.643809022929757,
          -4.840149820022213,
          -4.384636532531561,
          -6.020738633154683,
          -3.488055073235525,
          -3.4826270392401733,
          -0.2803821631834209,
          -5.879568597246813,
          -1.8048662622270302,
          0.36673535158985926,
          -1.5853570110857307,
          -2.3225591696660395,
          -0.6825956369006878,
          -3.382224023017276,
          -3.6300414709336444,
          0.2552690580788286,
          -0.4058376898047378,
          -3.28391861811175,
          -4.588544701719715,
          -3.885974154535045,
          -1.723563972084816,
          -5.521862919682834,
          -8.491025051812375,
          -3.3695297333881804,
          -2.9835279262083265,
          -2.2606406028260526,
          -1.7044377536197854,
          -2.0662708297130896,
          2.3410117945398676,
          -1.5399709834455453,
          -1.0322790866547236
         ],
         "lon": [
          -61.17407917795746,
          -64.4887501718042,
          -62.016043446852514,
          -60.74518848009183,
          -62.55097028744314,
          -60.85815659202717,
          -57.22090006725492,
          -56.529861134158566,
          -64.95698135166042,
          -65.92520107672948,
          -64.12551191518637,
          -61.29406533673653,
          -57.163061630781854,
          -57.586423536176994,
          -59.34302868873612,
          -67.43615052442917,
          -62.68687642124392,
          -64.6980750981225,
          -60.68420608220955,
          -69.17292387339023,
          -60.26619581944884,
          -69.75723440463958,
          -61.31099576565018,
          -60.465960000503806,
          -62.19646416656764,
          -65.70587234522564,
          -59.17691077670338,
          -61.227142728285024,
          -63.92770017261702,
          -57.58089834464502,
          -61.722656971458534,
          -62.86678947704492,
          -61.826664500568036,
          -66.0900820076191,
          -59.82388841738827,
          -62.95281551824656,
          -56.274339439043175,
          -60.39807426494296,
          -64.0592602665637,
          -59.46011913560337,
          -60.55091159635216,
          -64.35080776853162,
          -64.57336064928867,
          -61.91285313640646,
          -61.05222430802434,
          -62.58707234322386,
          -56.34800550358839,
          -62.732206925027675,
          -60.82634255801569,
          -62.165198316703226,
          -59.87688354321364,
          -64.21090466011938,
          -64.52407541639217,
          -60.77443292629819,
          -64.05334234296917,
          -62.6942243680108,
          -64.36997469593766,
          -56.88078452711378,
          -59.83412862336313,
          -54.48331526356597,
          -61.79878303515449,
          -63.23100407270143,
          -56.669485965834454,
          -63.521855317414236,
          -61.82876991947024,
          -61.77430354435636,
          -69.18166645421614,
          -59.96562621812585,
          -64.09511802184147,
          -61.86961644373867,
          -65.56668364338569,
          -59.15066855830959,
          -61.473591601423394,
          -64.02831169444178,
          -58.54479174114963,
          -61.152920650510794,
          -60.38241708655239,
          -61.73748998371895,
          -63.94650325165379,
          -63.84205787139507,
          -54.96763340192311,
          -64.52997216771908,
          -66.54098592418939,
          -65.89856210780808,
          -62.951119350091176,
          -60.297485919131475,
          -61.129516323024475,
          -65.42674134699405,
          -61.134631725608905,
          -62.23045195035515,
          -60.28158832420752,
          -60.40738308730019,
          -58.438015381055386,
          -59.00363777047913,
          -65.73438070376302,
          -59.8423253988859,
          -63.08118595342599,
          -67.17651307894212,
          -61.687824031033045,
          -67.67361997696884,
          -61.25645150584997,
          -61.930649980824064,
          -64.66058993775013,
          -65.76636867566069,
          -61.568857030901626,
          -56.36194175699338,
          -66.05548070542336,
          -62.06640389253999,
          -61.1357569500572,
          -59.38123340125671,
          -62.54252032619753,
          -61.58949446699645,
          -63.69737130755807,
          -60.70855650104284,
          -65.49587333677398,
          -63.954362147802605,
          -54.60574398291611,
          -63.705306823550494,
          -64.30841664261503,
          -64.41116402798403,
          -57.12814910154626,
          -61.02316644806671,
          -61.14852148732422,
          -61.251890574821594,
          -59.10729869203041,
          -61.20534745778199,
          -55.84532071308117,
          -64.87974723765602,
          -62.57626320560055,
          -60.054682761098825,
          -61.41175304942852,
          -57.72887126515037,
          -64.11378003828382,
          -62.12048071205554,
          -61.59411723279274,
          -65.67253488276855,
          -69.0138800344091,
          -60.35379741345125,
          -58.367841027659374,
          -66.45407141634085,
          -63.9039124347536,
          -69.93191388960578,
          -57.46307791581015,
          -60.684621593550794,
          -57.00796966232791,
          -67.94743606813705,
          -66.79780433646468,
          -65.86708090519022,
          -64.08594157592334,
          -65.04610373258714,
          -64.83367657524042,
          -61.983454289666184,
          -60.27581881974864,
          -59.408877123823196,
          -67.35032672188903,
          -63.185507316666694,
          -64.60889069940772,
          -63.44731443267525,
          -61.97232679596741,
          -63.69361832273585,
          -61.23905939696151,
          -61.482910470011575,
          -65.14481178874699,
          -65.02156488513405,
          -59.7117477249731,
          -66.39265717326612,
          -70.16927532090021,
          -59.64409133360665,
          -60.210674059630485,
          -58.355322284153516,
          -65.52580155988724,
          -65.99893904048608,
          -60.2497769414504,
          -62.22474893608747,
          -64.46444260615905,
          -56.09139067668366,
          -61.30867920684603,
          -56.50889186783738,
          -55.97018308271184,
          -64.40556597719316,
          -61.31982589372978,
          -58.46497774049573,
          -66.7901108009795,
          -62.791017069516435,
          -61.975692282729035,
          -60.87779072948859,
          -65.13866483804738,
          -68.26844501360004,
          -66.62183553159403,
          -62.54482940318806,
          -63.723104086594965,
          -65.16771487218011,
          -61.320985035662744,
          -60.50512087900383,
          -58.93217688307974,
          -62.235312078253564,
          -63.89690419379654,
          -64.03181780401648,
          -63.8962512882753,
          -60.15250513694629,
          -58.703512329552176,
          -62.14693377199879,
          -66.71654871107926,
          -57.64177185625401,
          -58.65328047366357,
          -65.51685201603519,
          -60.6281305770976,
          -63.02370781319952,
          -55.90257553543612,
          -64.26713626094595,
          -54.76105319923567,
          -62.31180426744051,
          -61.036554452416595,
          -63.306824748657306,
          -54.765949750244985,
          -62.71725703487089,
          -62.346410719084105,
          -61.3728524830065,
          -56.80947199659185,
          -70.6885851554125,
          -62.95776734490842
         ],
         "marker": {
          "autocolorscale": false,
          "cmax": 25129,
          "cmin": 0,
          "color": [
           25129,
           21925,
           20662,
           17290,
           13781,
           13223,
           12016,
           11797,
           10536,
           10490,
           9898,
           9182,
           8678,
           8523,
           7965,
           7690,
           7541,
           7392,
           6979,
           6779,
           6233,
           6204,
           6044,
           5945,
           5907,
           5627,
           4943,
           4749,
           4616,
           4432,
           4367,
           4332,
           4071,
           4057,
           3972,
           3896,
           3824,
           3654,
           3616,
           3403,
           3386,
           3180,
           3058,
           3030,
           3015,
           3005,
           2786,
           2136,
           2104,
           2104,
           2044,
           2003,
           1986,
           1752,
           1716,
           1622,
           1620,
           1502,
           1474,
           1439,
           1337,
           1327,
           1310,
           1299,
           1258,
           1224,
           1206,
           1199,
           1162,
           1103,
           1095,
           1052,
           1040,
           1035,
           1006,
           956,
           953,
           949,
           932,
           926,
           880,
           840,
           818,
           800,
           785,
           768,
           747,
           711,
           708,
           702,
           686,
           686,
           675,
           664,
           658,
           656,
           653,
           627,
           611,
           608,
           582,
           572,
           562,
           553,
           540,
           538,
           529,
           524,
           518,
           516,
           479,
           472,
           460,
           451,
           448,
           445,
           426,
           414,
           410,
           410,
           409,
           408,
           404,
           404,
           396,
           393,
           382,
           381,
           379,
           347,
           346,
           338,
           333,
           328,
           324,
           324,
           319,
           314,
           310,
           306,
           301,
           296,
           295,
           288,
           285,
           280,
           270,
           270,
           264,
           264,
           258,
           248,
           248,
           246,
           245,
           225,
           216,
           216,
           214,
           212,
           210,
           208,
           208,
           201,
           199,
           168,
           168,
           168,
           168,
           168,
           168,
           159,
           158,
           158,
           156,
           146,
           144,
           140,
           127,
           114,
           112,
           112,
           112,
           112,
           112,
           112,
           112,
           112,
           112,
           110,
           108,
           108,
           104,
           104,
           104,
           104,
           102,
           96,
           93,
           91,
           90,
           74,
           72,
           60,
           58,
           56,
           56,
           56,
           56,
           56,
           56,
           56,
           56,
           52,
           50,
           50,
           48,
           48,
           37,
           32,
           23
          ],
          "colorscale": [
           [
            0,
            "rgb(247,251,255)"
           ],
           [
            0.125,
            "rgb(222,235,247)"
           ],
           [
            0.25,
            "rgb(198,219,239)"
           ],
           [
            0.375,
            "rgb(158,202,225)"
           ],
           [
            0.5,
            "rgb(107,174,214)"
           ],
           [
            0.625,
            "rgb(66,146,198)"
           ],
           [
            0.75,
            "rgb(33,113,181)"
           ],
           [
            0.875,
            "rgb(8,81,156)"
           ],
           [
            1,
            "rgb(8,48,107)"
           ]
          ],
          "line": {
           "color": "rgba(102, 102, 102)",
           "width": 1
          },
          "opacity": 0.8,
          "reversescale": true,
          "size": 4,
          "symbol": "square"
         },
         "mode": "markers",
         "type": "scattergeo"
        }
       ],
       "layout": {
        "geo": {
         "countrycolor": "rgb(217, 217, 217)",
         "countrywidth": 0.5,
         "landcolor": "rgb(250, 250, 250)",
         "scope": "south america",
         "showland": true,
         "subunitcolor": "rgb(217, 217, 217)",
         "subunitwidth": 0.5
        },
        "template": {
         "data": {
          "bar": [
           {
            "error_x": {
             "color": "#2a3f5f"
            },
            "error_y": {
             "color": "#2a3f5f"
            },
            "marker": {
             "line": {
              "color": "#E5ECF6",
              "width": 0.5
             }
            },
            "type": "bar"
           }
          ],
          "barpolar": [
           {
            "marker": {
             "line": {
              "color": "#E5ECF6",
              "width": 0.5
             }
            },
            "type": "barpolar"
           }
          ],
          "carpet": [
           {
            "aaxis": {
             "endlinecolor": "#2a3f5f",
             "gridcolor": "white",
             "linecolor": "white",
             "minorgridcolor": "white",
             "startlinecolor": "#2a3f5f"
            },
            "baxis": {
             "endlinecolor": "#2a3f5f",
             "gridcolor": "white",
             "linecolor": "white",
             "minorgridcolor": "white",
             "startlinecolor": "#2a3f5f"
            },
            "type": "carpet"
           }
          ],
          "choropleth": [
           {
            "colorbar": {
             "outlinewidth": 0,
             "ticks": ""
            },
            "type": "choropleth"
           }
          ],
          "contour": [
           {
            "colorbar": {
             "outlinewidth": 0,
             "ticks": ""
            },
            "colorscale": [
             [
              0,
              "#0d0887"
             ],
             [
              0.1111111111111111,
              "#46039f"
             ],
             [
              0.2222222222222222,
              "#7201a8"
             ],
             [
              0.3333333333333333,
              "#9c179e"
             ],
             [
              0.4444444444444444,
              "#bd3786"
             ],
             [
              0.5555555555555556,
              "#d8576b"
             ],
             [
              0.6666666666666666,
              "#ed7953"
             ],
             [
              0.7777777777777778,
              "#fb9f3a"
             ],
             [
              0.8888888888888888,
              "#fdca26"
             ],
             [
              1,
              "#f0f921"
             ]
            ],
            "type": "contour"
           }
          ],
          "contourcarpet": [
           {
            "colorbar": {
             "outlinewidth": 0,
             "ticks": ""
            },
            "type": "contourcarpet"
           }
          ],
          "heatmap": [
           {
            "colorbar": {
             "outlinewidth": 0,
             "ticks": ""
            },
            "colorscale": [
             [
              0,
              "#0d0887"
             ],
             [
              0.1111111111111111,
              "#46039f"
             ],
             [
              0.2222222222222222,
              "#7201a8"
             ],
             [
              0.3333333333333333,
              "#9c179e"
             ],
             [
              0.4444444444444444,
              "#bd3786"
             ],
             [
              0.5555555555555556,
              "#d8576b"
             ],
             [
              0.6666666666666666,
              "#ed7953"
             ],
             [
              0.7777777777777778,
              "#fb9f3a"
             ],
             [
              0.8888888888888888,
              "#fdca26"
             ],
             [
              1,
              "#f0f921"
             ]
            ],
            "type": "heatmap"
           }
          ],
          "heatmapgl": [
           {
            "colorbar": {
             "outlinewidth": 0,
             "ticks": ""
            },
            "colorscale": [
             [
              0,
              "#0d0887"
             ],
             [
              0.1111111111111111,
              "#46039f"
             ],
             [
              0.2222222222222222,
              "#7201a8"
             ],
             [
              0.3333333333333333,
              "#9c179e"
             ],
             [
              0.4444444444444444,
              "#bd3786"
             ],
             [
              0.5555555555555556,
              "#d8576b"
             ],
             [
              0.6666666666666666,
              "#ed7953"
             ],
             [
              0.7777777777777778,
              "#fb9f3a"
             ],
             [
              0.8888888888888888,
              "#fdca26"
             ],
             [
              1,
              "#f0f921"
             ]
            ],
            "type": "heatmapgl"
           }
          ],
          "histogram": [
           {
            "marker": {
             "colorbar": {
              "outlinewidth": 0,
              "ticks": ""
             }
            },
            "type": "histogram"
           }
          ],
          "histogram2d": [
           {
            "colorbar": {
             "outlinewidth": 0,
             "ticks": ""
            },
            "colorscale": [
             [
              0,
              "#0d0887"
             ],
             [
              0.1111111111111111,
              "#46039f"
             ],
             [
              0.2222222222222222,
              "#7201a8"
             ],
             [
              0.3333333333333333,
              "#9c179e"
             ],
             [
              0.4444444444444444,
              "#bd3786"
             ],
             [
              0.5555555555555556,
              "#d8576b"
             ],
             [
              0.6666666666666666,
              "#ed7953"
             ],
             [
              0.7777777777777778,
              "#fb9f3a"
             ],
             [
              0.8888888888888888,
              "#fdca26"
             ],
             [
              1,
              "#f0f921"
             ]
            ],
            "type": "histogram2d"
           }
          ],
          "histogram2dcontour": [
           {
            "colorbar": {
             "outlinewidth": 0,
             "ticks": ""
            },
            "colorscale": [
             [
              0,
              "#0d0887"
             ],
             [
              0.1111111111111111,
              "#46039f"
             ],
             [
              0.2222222222222222,
              "#7201a8"
             ],
             [
              0.3333333333333333,
              "#9c179e"
             ],
             [
              0.4444444444444444,
              "#bd3786"
             ],
             [
              0.5555555555555556,
              "#d8576b"
             ],
             [
              0.6666666666666666,
              "#ed7953"
             ],
             [
              0.7777777777777778,
              "#fb9f3a"
             ],
             [
              0.8888888888888888,
              "#fdca26"
             ],
             [
              1,
              "#f0f921"
             ]
            ],
            "type": "histogram2dcontour"
           }
          ],
          "mesh3d": [
           {
            "colorbar": {
             "outlinewidth": 0,
             "ticks": ""
            },
            "type": "mesh3d"
           }
          ],
          "parcoords": [
           {
            "line": {
             "colorbar": {
              "outlinewidth": 0,
              "ticks": ""
             }
            },
            "type": "parcoords"
           }
          ],
          "scatter": [
           {
            "marker": {
             "colorbar": {
              "outlinewidth": 0,
              "ticks": ""
             }
            },
            "type": "scatter"
           }
          ],
          "scatter3d": [
           {
            "line": {
             "colorbar": {
              "outlinewidth": 0,
              "ticks": ""
             }
            },
            "marker": {
             "colorbar": {
              "outlinewidth": 0,
              "ticks": ""
             }
            },
            "type": "scatter3d"
           }
          ],
          "scattercarpet": [
           {
            "marker": {
             "colorbar": {
              "outlinewidth": 0,
              "ticks": ""
             }
            },
            "type": "scattercarpet"
           }
          ],
          "scattergeo": [
           {
            "marker": {
             "colorbar": {
              "outlinewidth": 0,
              "ticks": ""
             }
            },
            "type": "scattergeo"
           }
          ],
          "scattergl": [
           {
            "marker": {
             "colorbar": {
              "outlinewidth": 0,
              "ticks": ""
             }
            },
            "type": "scattergl"
           }
          ],
          "scattermapbox": [
           {
            "marker": {
             "colorbar": {
              "outlinewidth": 0,
              "ticks": ""
             }
            },
            "type": "scattermapbox"
           }
          ],
          "scatterpolar": [
           {
            "marker": {
             "colorbar": {
              "outlinewidth": 0,
              "ticks": ""
             }
            },
            "type": "scatterpolar"
           }
          ],
          "scatterpolargl": [
           {
            "marker": {
             "colorbar": {
              "outlinewidth": 0,
              "ticks": ""
             }
            },
            "type": "scatterpolargl"
           }
          ],
          "scatterternary": [
           {
            "marker": {
             "colorbar": {
              "outlinewidth": 0,
              "ticks": ""
             }
            },
            "type": "scatterternary"
           }
          ],
          "surface": [
           {
            "colorbar": {
             "outlinewidth": 0,
             "ticks": ""
            },
            "colorscale": [
             [
              0,
              "#0d0887"
             ],
             [
              0.1111111111111111,
              "#46039f"
             ],
             [
              0.2222222222222222,
              "#7201a8"
             ],
             [
              0.3333333333333333,
              "#9c179e"
             ],
             [
              0.4444444444444444,
              "#bd3786"
             ],
             [
              0.5555555555555556,
              "#d8576b"
             ],
             [
              0.6666666666666666,
              "#ed7953"
             ],
             [
              0.7777777777777778,
              "#fb9f3a"
             ],
             [
              0.8888888888888888,
              "#fdca26"
             ],
             [
              1,
              "#f0f921"
             ]
            ],
            "type": "surface"
           }
          ],
          "table": [
           {
            "cells": {
             "fill": {
              "color": "#EBF0F8"
             },
             "line": {
              "color": "white"
             }
            },
            "header": {
             "fill": {
              "color": "#C8D4E3"
             },
             "line": {
              "color": "white"
             }
            },
            "type": "table"
           }
          ]
         },
         "layout": {
          "annotationdefaults": {
           "arrowcolor": "#2a3f5f",
           "arrowhead": 0,
           "arrowwidth": 1
          },
          "colorscale": {
           "diverging": [
            [
             0,
             "#8e0152"
            ],
            [
             0.1,
             "#c51b7d"
            ],
            [
             0.2,
             "#de77ae"
            ],
            [
             0.3,
             "#f1b6da"
            ],
            [
             0.4,
             "#fde0ef"
            ],
            [
             0.5,
             "#f7f7f7"
            ],
            [
             0.6,
             "#e6f5d0"
            ],
            [
             0.7,
             "#b8e186"
            ],
            [
             0.8,
             "#7fbc41"
            ],
            [
             0.9,
             "#4d9221"
            ],
            [
             1,
             "#276419"
            ]
           ],
           "sequential": [
            [
             0,
             "#0d0887"
            ],
            [
             0.1111111111111111,
             "#46039f"
            ],
            [
             0.2222222222222222,
             "#7201a8"
            ],
            [
             0.3333333333333333,
             "#9c179e"
            ],
            [
             0.4444444444444444,
             "#bd3786"
            ],
            [
             0.5555555555555556,
             "#d8576b"
            ],
            [
             0.6666666666666666,
             "#ed7953"
            ],
            [
             0.7777777777777778,
             "#fb9f3a"
            ],
            [
             0.8888888888888888,
             "#fdca26"
            ],
            [
             1,
             "#f0f921"
            ]
           ],
           "sequentialminus": [
            [
             0,
             "#0d0887"
            ],
            [
             0.1111111111111111,
             "#46039f"
            ],
            [
             0.2222222222222222,
             "#7201a8"
            ],
            [
             0.3333333333333333,
             "#9c179e"
            ],
            [
             0.4444444444444444,
             "#bd3786"
            ],
            [
             0.5555555555555556,
             "#d8576b"
            ],
            [
             0.6666666666666666,
             "#ed7953"
            ],
            [
             0.7777777777777778,
             "#fb9f3a"
            ],
            [
             0.8888888888888888,
             "#fdca26"
            ],
            [
             1,
             "#f0f921"
            ]
           ]
          },
          "colorway": [
           "#636efa",
           "#EF553B",
           "#00cc96",
           "#ab63fa",
           "#FFA15A",
           "#19d3f3",
           "#FF6692",
           "#B6E880",
           "#FF97FF",
           "#FECB52"
          ],
          "font": {
           "color": "#2a3f5f"
          },
          "geo": {
           "bgcolor": "white",
           "lakecolor": "white",
           "landcolor": "#E5ECF6",
           "showlakes": true,
           "showland": true,
           "subunitcolor": "white"
          },
          "hoverlabel": {
           "align": "left"
          },
          "hovermode": "closest",
          "mapbox": {
           "style": "light"
          },
          "paper_bgcolor": "white",
          "plot_bgcolor": "#E5ECF6",
          "polar": {
           "angularaxis": {
            "gridcolor": "white",
            "linecolor": "white",
            "ticks": ""
           },
           "bgcolor": "#E5ECF6",
           "radialaxis": {
            "gridcolor": "white",
            "linecolor": "white",
            "ticks": ""
           }
          },
          "scene": {
           "xaxis": {
            "backgroundcolor": "#E5ECF6",
            "gridcolor": "white",
            "gridwidth": 2,
            "linecolor": "white",
            "showbackground": true,
            "ticks": "",
            "zerolinecolor": "white"
           },
           "yaxis": {
            "backgroundcolor": "#E5ECF6",
            "gridcolor": "white",
            "gridwidth": 2,
            "linecolor": "white",
            "showbackground": true,
            "ticks": "",
            "zerolinecolor": "white"
           },
           "zaxis": {
            "backgroundcolor": "#E5ECF6",
            "gridcolor": "white",
            "gridwidth": 2,
            "linecolor": "white",
            "showbackground": true,
            "ticks": "",
            "zerolinecolor": "white"
           }
          },
          "shapedefaults": {
           "line": {
            "color": "#2a3f5f"
           }
          },
          "ternary": {
           "aaxis": {
            "gridcolor": "white",
            "linecolor": "white",
            "ticks": ""
           },
           "baxis": {
            "gridcolor": "white",
            "linecolor": "white",
            "ticks": ""
           },
           "bgcolor": "#E5ECF6",
           "caxis": {
            "gridcolor": "white",
            "linecolor": "white",
            "ticks": ""
           }
          },
          "title": {
           "x": 0.05
          },
          "xaxis": {
           "automargin": true,
           "gridcolor": "white",
           "linecolor": "white",
           "ticks": "",
           "zerolinecolor": "white",
           "zerolinewidth": 2
          },
          "yaxis": {
           "automargin": true,
           "gridcolor": "white",
           "linecolor": "white",
           "ticks": "",
           "zerolinecolor": "white",
           "zerolinewidth": 2
          }
         }
        },
        "title": {
         "text": "Random lat lon in South America"
        }
       }
      },
      "text/html": [
       "<div>\n",
       "        \n",
       "        \n",
       "            <div id=\"8caece2a-ce2c-4656-9156-78908d23b236\" class=\"plotly-graph-div\" style=\"height:525px; width:100%;\"></div>\n",
       "            <script type=\"text/javascript\">\n",
       "                require([\"plotly\"], function(Plotly) {\n",
       "                    window.PLOTLYENV=window.PLOTLYENV || {};\n",
       "                    \n",
       "                if (document.getElementById(\"8caece2a-ce2c-4656-9156-78908d23b236\")) {\n",
       "                    Plotly.newPlot(\n",
       "                        '8caece2a-ce2c-4656-9156-78908d23b236',\n",
       "                        [{\"lat\": [0.9933214833406141, -4.485117775120793, -0.009372191286845855, -2.984744910780455, 2.7606478722321857, -2.7876456962946223, -3.4629979827247097, 0.4164165913942197, -2.7971309317913127, -2.684195916035252, -2.638343686460536, -6.926526531884074, -2.465118045405075, -2.4625011049539047, -1.9165618318201785, 3.048452162770986, -0.9623137501695922, -3.268942208501408, -7.812293918951246, -3.7142672051882695, -3.431626814905232, -4.5158031386008455, -7.769374621680549, -3.4006491854156766, -3.2286465556982846, -4.932964972514625, -3.6718059701588643, 0.01984349688543796, -1.5915132482537653, -1.6240459427237028, 0.6507094678274816, -3.1125061405842054, -3.597315962453581, -3.2184029536678476, -4.0096588713574075, -2.7672448466909745, -0.9566425161736856, 0.02026050687722325, -5.786019290338885, -5.166593563648175, -6.482866179117415, -7.09577972630133, -6.113565242802093, 1.8960000920911302, -1.1187377765282605, -3.997434578958524, -3.1907277797093685, -5.730584614857346, -4.11633244282846, -1.6560214309655412, -4.773999928249523, -1.9657285611082935, -2.1411764361819605, -2.41986937845621, -1.448415356238978, -1.878496450022297, -0.1918025078977892, 1.7018141326907212, -6.360391734642411, 0.1890082864849414, -4.573463287819193, -2.7384960281146635, -2.2122692210743686, -2.005274594330995, -1.1223614208761665, -3.468910250315324, -1.9372984371519895, -2.355372415700548, -2.741762497340348, -3.2596606566003627, -3.237994550041126, -1.721237447657808, -1.1008170795057586, -6.151661633497399, -1.2361310919191852, -4.218722570753501, 1.9439829247454163, -4.099666309781699, -0.3711901816243772, -4.981426180260991, -5.504410637361868, -5.477899920874609, -1.7204218752896092, -3.843958276879228, -4.015923191430256, -0.7762758181724316, -0.1150028314066498, -2.3704616673622536, -3.686981703492594, -3.191775839763546, -1.3811307121589405, -2.430154442109238, -5.780024474554365, -6.746000042019311, -2.2137815053599215, -2.2667509269778447, -3.3561507686760694, 0.28334660679566825, -5.369674286917845, -2.9878918663885417, -2.83445007714305, -1.6390638729848008, -1.711013982329001, -3.0734261011017576, -1.469006021593687, 0.35064197897378957, -2.5397835009106395, -5.209465515675067, 3.6358832351884143, -4.518899093562038, 2.249799828790099, -4.591059348166052, -0.9783709340140243, -3.8521115052295505, -5.169343315634821, -1.3870725466465765, -5.1893335607823525, -6.101902232076387, -2.400652663823023, -2.3977762088296206, -4.687453874420157, 0.31013607189434156, -3.8942573062389374, -5.118920122556467, 0.240477608511815, -2.6311975935952803, -0.343348448363507, -1.1751070689539767, -5.754547774019967, -3.415207875791003, -4.676320185642323, -0.955023676037607, -2.776891963788454, -4.256924788294768, -2.302999162858766, -5.4838373663529065, -3.772257465824697, -3.3090754457206026, -1.7508541126504926, -2.3356998021934356, 1.1264101623103473, -5.820480034074594, -2.796217549041372, -1.902935640081387, -2.3106032030998165, -0.9611483375327481, -5.196379700026155, -4.108728655350022, -6.370345074211578, -10.405974840190751, 0.25708689161958187, -2.3483925385159456, -3.6783832526847293, -6.810269393592785, 0.006920380454287667, -0.30833040811499846, 1.5479145214791714, -1.7009190498946611, -1.277701174464964, -4.745292935257625, -2.6016556956473758, -3.373042426487227, -3.697154152325101, -1.0493365002056552, -2.2510150206452653, -0.5802780413988251, -4.449685579604515, -3.9225497835542997, -4.937729079217072, 0.15495091040751152, -0.7766652066488464, -3.260056005831376, -4.622716690420305, -4.916799876268575, -4.9852766763426395, -1.911154686234206, -4.8995833167177505, -4.414702349326934, -2.873783078465532, -5.395528858197942, -5.091015540574819, -2.5915746785713223, -0.5689996497310226, -5.358181803969695, -2.4351587011096236, -4.584649571729679, -5.52867630121486, -4.8820986288142265, -3.365238184906794, -3.4829157493091407, -5.643809022929757, -4.840149820022213, -4.384636532531561, -6.020738633154683, -3.488055073235525, -3.4826270392401733, -0.2803821631834209, -5.879568597246813, -1.8048662622270302, 0.36673535158985926, -1.5853570110857307, -2.3225591696660395, -0.6825956369006878, -3.382224023017276, -3.6300414709336444, 0.2552690580788286, -0.4058376898047378, -3.28391861811175, -4.588544701719715, -3.885974154535045, -1.723563972084816, -5.521862919682834, -8.491025051812375, -3.3695297333881804, -2.9835279262083265, -2.2606406028260526, -1.7044377536197854, -2.0662708297130896, 2.3410117945398676, -1.5399709834455453, -1.0322790866547236], \"lon\": [-61.17407917795746, -64.4887501718042, -62.016043446852514, -60.74518848009183, -62.55097028744314, -60.85815659202717, -57.22090006725492, -56.529861134158566, -64.95698135166042, -65.92520107672948, -64.12551191518637, -61.29406533673653, -57.163061630781854, -57.586423536176994, -59.34302868873612, -67.43615052442917, -62.68687642124392, -64.6980750981225, -60.68420608220955, -69.17292387339023, -60.26619581944884, -69.75723440463958, -61.31099576565018, -60.465960000503806, -62.19646416656764, -65.70587234522564, -59.17691077670338, -61.227142728285024, -63.92770017261702, -57.58089834464502, -61.722656971458534, -62.86678947704492, -61.826664500568036, -66.0900820076191, -59.82388841738827, -62.95281551824656, -56.274339439043175, -60.39807426494296, -64.0592602665637, -59.46011913560337, -60.55091159635216, -64.35080776853162, -64.57336064928867, -61.91285313640646, -61.05222430802434, -62.58707234322386, -56.34800550358839, -62.732206925027675, -60.82634255801569, -62.165198316703226, -59.87688354321364, -64.21090466011938, -64.52407541639217, -60.77443292629819, -64.05334234296917, -62.6942243680108, -64.36997469593766, -56.88078452711378, -59.83412862336313, -54.48331526356597, -61.79878303515449, -63.23100407270143, -56.669485965834454, -63.521855317414236, -61.82876991947024, -61.77430354435636, -69.18166645421614, -59.96562621812585, -64.09511802184147, -61.86961644373867, -65.56668364338569, -59.15066855830959, -61.473591601423394, -64.02831169444178, -58.54479174114963, -61.152920650510794, -60.38241708655239, -61.73748998371895, -63.94650325165379, -63.84205787139507, -54.96763340192311, -64.52997216771908, -66.54098592418939, -65.89856210780808, -62.951119350091176, -60.297485919131475, -61.129516323024475, -65.42674134699405, -61.134631725608905, -62.23045195035515, -60.28158832420752, -60.40738308730019, -58.438015381055386, -59.00363777047913, -65.73438070376302, -59.8423253988859, -63.08118595342599, -67.17651307894212, -61.687824031033045, -67.67361997696884, -61.25645150584997, -61.930649980824064, -64.66058993775013, -65.76636867566069, -61.568857030901626, -56.36194175699338, -66.05548070542336, -62.06640389253999, -61.1357569500572, -59.38123340125671, -62.54252032619753, -61.58949446699645, -63.69737130755807, -60.70855650104284, -65.49587333677398, -63.954362147802605, -54.60574398291611, -63.705306823550494, -64.30841664261503, -64.41116402798403, -57.12814910154626, -61.02316644806671, -61.14852148732422, -61.251890574821594, -59.10729869203041, -61.20534745778199, -55.84532071308117, -64.87974723765602, -62.57626320560055, -60.054682761098825, -61.41175304942852, -57.72887126515037, -64.11378003828382, -62.12048071205554, -61.59411723279274, -65.67253488276855, -69.0138800344091, -60.35379741345125, -58.367841027659374, -66.45407141634085, -63.9039124347536, -69.93191388960578, -57.46307791581015, -60.684621593550794, -57.00796966232791, -67.94743606813705, -66.79780433646468, -65.86708090519022, -64.08594157592334, -65.04610373258714, -64.83367657524042, -61.983454289666184, -60.27581881974864, -59.408877123823196, -67.35032672188903, -63.185507316666694, -64.60889069940772, -63.44731443267525, -61.97232679596741, -63.69361832273585, -61.23905939696151, -61.482910470011575, -65.14481178874699, -65.02156488513405, -59.7117477249731, -66.39265717326612, -70.16927532090021, -59.64409133360665, -60.210674059630485, -58.355322284153516, -65.52580155988724, -65.99893904048608, -60.2497769414504, -62.22474893608747, -64.46444260615905, -56.09139067668366, -61.30867920684603, -56.50889186783738, -55.97018308271184, -64.40556597719316, -61.31982589372978, -58.46497774049573, -66.7901108009795, -62.791017069516435, -61.975692282729035, -60.87779072948859, -65.13866483804738, -68.26844501360004, -66.62183553159403, -62.54482940318806, -63.723104086594965, -65.16771487218011, -61.320985035662744, -60.50512087900383, -58.93217688307974, -62.235312078253564, -63.89690419379654, -64.03181780401648, -63.8962512882753, -60.15250513694629, -58.703512329552176, -62.14693377199879, -66.71654871107926, -57.64177185625401, -58.65328047366357, -65.51685201603519, -60.6281305770976, -63.02370781319952, -55.90257553543612, -64.26713626094595, -54.76105319923567, -62.31180426744051, -61.036554452416595, -63.306824748657306, -54.765949750244985, -62.71725703487089, -62.346410719084105, -61.3728524830065, -56.80947199659185, -70.6885851554125, -62.95776734490842], \"marker\": {\"autocolorscale\": false, \"cmax\": 25129, \"cmin\": 0, \"color\": [25129, 21925, 20662, 17290, 13781, 13223, 12016, 11797, 10536, 10490, 9898, 9182, 8678, 8523, 7965, 7690, 7541, 7392, 6979, 6779, 6233, 6204, 6044, 5945, 5907, 5627, 4943, 4749, 4616, 4432, 4367, 4332, 4071, 4057, 3972, 3896, 3824, 3654, 3616, 3403, 3386, 3180, 3058, 3030, 3015, 3005, 2786, 2136, 2104, 2104, 2044, 2003, 1986, 1752, 1716, 1622, 1620, 1502, 1474, 1439, 1337, 1327, 1310, 1299, 1258, 1224, 1206, 1199, 1162, 1103, 1095, 1052, 1040, 1035, 1006, 956, 953, 949, 932, 926, 880, 840, 818, 800, 785, 768, 747, 711, 708, 702, 686, 686, 675, 664, 658, 656, 653, 627, 611, 608, 582, 572, 562, 553, 540, 538, 529, 524, 518, 516, 479, 472, 460, 451, 448, 445, 426, 414, 410, 410, 409, 408, 404, 404, 396, 393, 382, 381, 379, 347, 346, 338, 333, 328, 324, 324, 319, 314, 310, 306, 301, 296, 295, 288, 285, 280, 270, 270, 264, 264, 258, 248, 248, 246, 245, 225, 216, 216, 214, 212, 210, 208, 208, 201, 199, 168, 168, 168, 168, 168, 168, 159, 158, 158, 156, 146, 144, 140, 127, 114, 112, 112, 112, 112, 112, 112, 112, 112, 112, 110, 108, 108, 104, 104, 104, 104, 102, 96, 93, 91, 90, 74, 72, 60, 58, 56, 56, 56, 56, 56, 56, 56, 56, 52, 50, 50, 48, 48, 37, 32, 23], \"colorscale\": [[0.0, \"rgb(247,251,255)\"], [0.125, \"rgb(222,235,247)\"], [0.25, \"rgb(198,219,239)\"], [0.375, \"rgb(158,202,225)\"], [0.5, \"rgb(107,174,214)\"], [0.625, \"rgb(66,146,198)\"], [0.75, \"rgb(33,113,181)\"], [0.875, \"rgb(8,81,156)\"], [1.0, \"rgb(8,48,107)\"]], \"line\": {\"color\": \"rgba(102, 102, 102)\", \"width\": 1}, \"opacity\": 0.8, \"reversescale\": true, \"size\": 4, \"symbol\": \"square\"}, \"mode\": \"markers\", \"type\": \"scattergeo\"}],\n",
       "                        {\"geo\": {\"countrycolor\": \"rgb(217, 217, 217)\", \"countrywidth\": 0.5, \"landcolor\": \"rgb(250, 250, 250)\", \"scope\": \"south america\", \"showland\": true, \"subunitcolor\": \"rgb(217, 217, 217)\", \"subunitwidth\": 0.5}, \"template\": {\"data\": {\"bar\": [{\"error_x\": {\"color\": \"#2a3f5f\"}, \"error_y\": {\"color\": \"#2a3f5f\"}, \"marker\": {\"line\": {\"color\": \"#E5ECF6\", \"width\": 0.5}}, \"type\": \"bar\"}], \"barpolar\": [{\"marker\": {\"line\": {\"color\": \"#E5ECF6\", \"width\": 0.5}}, \"type\": \"barpolar\"}], \"carpet\": [{\"aaxis\": {\"endlinecolor\": \"#2a3f5f\", \"gridcolor\": \"white\", \"linecolor\": \"white\", \"minorgridcolor\": \"white\", \"startlinecolor\": \"#2a3f5f\"}, \"baxis\": {\"endlinecolor\": \"#2a3f5f\", \"gridcolor\": \"white\", \"linecolor\": \"white\", \"minorgridcolor\": \"white\", \"startlinecolor\": \"#2a3f5f\"}, \"type\": \"carpet\"}], \"choropleth\": [{\"colorbar\": {\"outlinewidth\": 0, \"ticks\": \"\"}, \"type\": \"choropleth\"}], \"contour\": [{\"colorbar\": {\"outlinewidth\": 0, \"ticks\": \"\"}, \"colorscale\": [[0.0, \"#0d0887\"], [0.1111111111111111, \"#46039f\"], [0.2222222222222222, \"#7201a8\"], [0.3333333333333333, \"#9c179e\"], [0.4444444444444444, \"#bd3786\"], [0.5555555555555556, \"#d8576b\"], [0.6666666666666666, \"#ed7953\"], [0.7777777777777778, \"#fb9f3a\"], [0.8888888888888888, \"#fdca26\"], [1.0, \"#f0f921\"]], \"type\": \"contour\"}], \"contourcarpet\": [{\"colorbar\": {\"outlinewidth\": 0, \"ticks\": \"\"}, \"type\": \"contourcarpet\"}], \"heatmap\": [{\"colorbar\": {\"outlinewidth\": 0, \"ticks\": \"\"}, \"colorscale\": [[0.0, \"#0d0887\"], [0.1111111111111111, \"#46039f\"], [0.2222222222222222, \"#7201a8\"], [0.3333333333333333, \"#9c179e\"], [0.4444444444444444, \"#bd3786\"], [0.5555555555555556, \"#d8576b\"], [0.6666666666666666, \"#ed7953\"], [0.7777777777777778, \"#fb9f3a\"], [0.8888888888888888, \"#fdca26\"], [1.0, \"#f0f921\"]], \"type\": \"heatmap\"}], \"heatmapgl\": [{\"colorbar\": {\"outlinewidth\": 0, \"ticks\": \"\"}, \"colorscale\": [[0.0, \"#0d0887\"], [0.1111111111111111, \"#46039f\"], [0.2222222222222222, \"#7201a8\"], [0.3333333333333333, \"#9c179e\"], [0.4444444444444444, \"#bd3786\"], [0.5555555555555556, \"#d8576b\"], [0.6666666666666666, \"#ed7953\"], [0.7777777777777778, \"#fb9f3a\"], [0.8888888888888888, \"#fdca26\"], [1.0, \"#f0f921\"]], \"type\": \"heatmapgl\"}], \"histogram\": [{\"marker\": {\"colorbar\": {\"outlinewidth\": 0, \"ticks\": \"\"}}, \"type\": \"histogram\"}], \"histogram2d\": [{\"colorbar\": {\"outlinewidth\": 0, \"ticks\": \"\"}, \"colorscale\": [[0.0, \"#0d0887\"], [0.1111111111111111, \"#46039f\"], [0.2222222222222222, \"#7201a8\"], [0.3333333333333333, \"#9c179e\"], [0.4444444444444444, \"#bd3786\"], [0.5555555555555556, \"#d8576b\"], [0.6666666666666666, \"#ed7953\"], [0.7777777777777778, \"#fb9f3a\"], [0.8888888888888888, \"#fdca26\"], [1.0, \"#f0f921\"]], \"type\": \"histogram2d\"}], \"histogram2dcontour\": [{\"colorbar\": {\"outlinewidth\": 0, \"ticks\": \"\"}, \"colorscale\": [[0.0, \"#0d0887\"], [0.1111111111111111, \"#46039f\"], [0.2222222222222222, \"#7201a8\"], [0.3333333333333333, \"#9c179e\"], [0.4444444444444444, \"#bd3786\"], [0.5555555555555556, \"#d8576b\"], [0.6666666666666666, \"#ed7953\"], [0.7777777777777778, \"#fb9f3a\"], [0.8888888888888888, \"#fdca26\"], [1.0, \"#f0f921\"]], \"type\": \"histogram2dcontour\"}], \"mesh3d\": [{\"colorbar\": {\"outlinewidth\": 0, \"ticks\": \"\"}, \"type\": \"mesh3d\"}], \"parcoords\": [{\"line\": {\"colorbar\": {\"outlinewidth\": 0, \"ticks\": \"\"}}, \"type\": \"parcoords\"}], \"scatter\": [{\"marker\": {\"colorbar\": {\"outlinewidth\": 0, \"ticks\": \"\"}}, \"type\": \"scatter\"}], \"scatter3d\": [{\"line\": {\"colorbar\": {\"outlinewidth\": 0, \"ticks\": \"\"}}, \"marker\": {\"colorbar\": {\"outlinewidth\": 0, \"ticks\": \"\"}}, \"type\": \"scatter3d\"}], \"scattercarpet\": [{\"marker\": {\"colorbar\": {\"outlinewidth\": 0, \"ticks\": \"\"}}, \"type\": \"scattercarpet\"}], \"scattergeo\": [{\"marker\": {\"colorbar\": {\"outlinewidth\": 0, \"ticks\": \"\"}}, \"type\": \"scattergeo\"}], \"scattergl\": [{\"marker\": {\"colorbar\": {\"outlinewidth\": 0, \"ticks\": \"\"}}, \"type\": \"scattergl\"}], \"scattermapbox\": [{\"marker\": {\"colorbar\": {\"outlinewidth\": 0, \"ticks\": \"\"}}, \"type\": \"scattermapbox\"}], \"scatterpolar\": [{\"marker\": {\"colorbar\": {\"outlinewidth\": 0, \"ticks\": \"\"}}, \"type\": \"scatterpolar\"}], \"scatterpolargl\": [{\"marker\": {\"colorbar\": {\"outlinewidth\": 0, \"ticks\": \"\"}}, \"type\": \"scatterpolargl\"}], \"scatterternary\": [{\"marker\": {\"colorbar\": {\"outlinewidth\": 0, \"ticks\": \"\"}}, \"type\": \"scatterternary\"}], \"surface\": [{\"colorbar\": {\"outlinewidth\": 0, \"ticks\": \"\"}, \"colorscale\": [[0.0, \"#0d0887\"], [0.1111111111111111, \"#46039f\"], [0.2222222222222222, \"#7201a8\"], [0.3333333333333333, \"#9c179e\"], [0.4444444444444444, \"#bd3786\"], [0.5555555555555556, \"#d8576b\"], [0.6666666666666666, \"#ed7953\"], [0.7777777777777778, \"#fb9f3a\"], [0.8888888888888888, \"#fdca26\"], [1.0, \"#f0f921\"]], \"type\": \"surface\"}], \"table\": [{\"cells\": {\"fill\": {\"color\": \"#EBF0F8\"}, \"line\": {\"color\": \"white\"}}, \"header\": {\"fill\": {\"color\": \"#C8D4E3\"}, \"line\": {\"color\": \"white\"}}, \"type\": \"table\"}]}, \"layout\": {\"annotationdefaults\": {\"arrowcolor\": \"#2a3f5f\", \"arrowhead\": 0, \"arrowwidth\": 1}, \"colorscale\": {\"diverging\": [[0, \"#8e0152\"], [0.1, \"#c51b7d\"], [0.2, \"#de77ae\"], [0.3, \"#f1b6da\"], [0.4, \"#fde0ef\"], [0.5, \"#f7f7f7\"], [0.6, \"#e6f5d0\"], [0.7, \"#b8e186\"], [0.8, \"#7fbc41\"], [0.9, \"#4d9221\"], [1, \"#276419\"]], \"sequential\": [[0.0, \"#0d0887\"], [0.1111111111111111, \"#46039f\"], [0.2222222222222222, \"#7201a8\"], [0.3333333333333333, \"#9c179e\"], [0.4444444444444444, \"#bd3786\"], [0.5555555555555556, \"#d8576b\"], [0.6666666666666666, \"#ed7953\"], [0.7777777777777778, \"#fb9f3a\"], [0.8888888888888888, \"#fdca26\"], [1.0, \"#f0f921\"]], \"sequentialminus\": [[0.0, \"#0d0887\"], [0.1111111111111111, \"#46039f\"], [0.2222222222222222, \"#7201a8\"], [0.3333333333333333, \"#9c179e\"], [0.4444444444444444, \"#bd3786\"], [0.5555555555555556, \"#d8576b\"], [0.6666666666666666, \"#ed7953\"], [0.7777777777777778, \"#fb9f3a\"], [0.8888888888888888, \"#fdca26\"], [1.0, \"#f0f921\"]]}, \"colorway\": [\"#636efa\", \"#EF553B\", \"#00cc96\", \"#ab63fa\", \"#FFA15A\", \"#19d3f3\", \"#FF6692\", \"#B6E880\", \"#FF97FF\", \"#FECB52\"], \"font\": {\"color\": \"#2a3f5f\"}, \"geo\": {\"bgcolor\": \"white\", \"lakecolor\": \"white\", \"landcolor\": \"#E5ECF6\", \"showlakes\": true, \"showland\": true, \"subunitcolor\": \"white\"}, \"hoverlabel\": {\"align\": \"left\"}, \"hovermode\": \"closest\", \"mapbox\": {\"style\": \"light\"}, \"paper_bgcolor\": \"white\", \"plot_bgcolor\": \"#E5ECF6\", \"polar\": {\"angularaxis\": {\"gridcolor\": \"white\", \"linecolor\": \"white\", \"ticks\": \"\"}, \"bgcolor\": \"#E5ECF6\", \"radialaxis\": {\"gridcolor\": \"white\", \"linecolor\": \"white\", \"ticks\": \"\"}}, \"scene\": {\"xaxis\": {\"backgroundcolor\": \"#E5ECF6\", \"gridcolor\": \"white\", \"gridwidth\": 2, \"linecolor\": \"white\", \"showbackground\": true, \"ticks\": \"\", \"zerolinecolor\": \"white\"}, \"yaxis\": {\"backgroundcolor\": \"#E5ECF6\", \"gridcolor\": \"white\", \"gridwidth\": 2, \"linecolor\": \"white\", \"showbackground\": true, \"ticks\": \"\", \"zerolinecolor\": \"white\"}, \"zaxis\": {\"backgroundcolor\": \"#E5ECF6\", \"gridcolor\": \"white\", \"gridwidth\": 2, \"linecolor\": \"white\", \"showbackground\": true, \"ticks\": \"\", \"zerolinecolor\": \"white\"}}, \"shapedefaults\": {\"line\": {\"color\": \"#2a3f5f\"}}, \"ternary\": {\"aaxis\": {\"gridcolor\": \"white\", \"linecolor\": \"white\", \"ticks\": \"\"}, \"baxis\": {\"gridcolor\": \"white\", \"linecolor\": \"white\", \"ticks\": \"\"}, \"bgcolor\": \"#E5ECF6\", \"caxis\": {\"gridcolor\": \"white\", \"linecolor\": \"white\", \"ticks\": \"\"}}, \"title\": {\"x\": 0.05}, \"xaxis\": {\"automargin\": true, \"gridcolor\": \"white\", \"linecolor\": \"white\", \"ticks\": \"\", \"zerolinecolor\": \"white\", \"zerolinewidth\": 2}, \"yaxis\": {\"automargin\": true, \"gridcolor\": \"white\", \"linecolor\": \"white\", \"ticks\": \"\", \"zerolinecolor\": \"white\", \"zerolinewidth\": 2}}}, \"title\": {\"text\": \"Random lat lon in South America\"}},\n",
       "                        {\"responsive\": true}\n",
       "                    ).then(function(){\n",
       "                            \n",
       "var gd = document.getElementById('8caece2a-ce2c-4656-9156-78908d23b236');\n",
       "var x = new MutationObserver(function (mutations, observer) {{\n",
       "        var display = window.getComputedStyle(gd).display;\n",
       "        if (!display || display === 'none') {{\n",
       "            console.log([gd, 'removed!']);\n",
       "            Plotly.purge(gd);\n",
       "            observer.disconnect();\n",
       "        }}\n",
       "}});\n",
       "\n",
       "// Listen for the removal of the full notebook cells\n",
       "var notebookContainer = gd.closest('#notebook-container');\n",
       "if (notebookContainer) {{\n",
       "    x.observe(notebookContainer, {childList: true});\n",
       "}}\n",
       "\n",
       "// Listen for the clearing of the current output cell\n",
       "var outputEl = gd.closest('.output');\n",
       "if (outputEl) {{\n",
       "    x.observe(outputEl, {childList: true});\n",
       "}}\n",
       "\n",
       "                        })\n",
       "                };\n",
       "                });\n",
       "            </script>\n",
       "        </div>"
      ]
     },
     "metadata": {},
     "output_type": "display_data"
    }
   ],
   "source": [
    "fig = go.Figure(data=go.Scattergeo(\n",
    "#         locationmode = 'USA-states',\n",
    "        lon = df['lon'],\n",
    "        lat = df['lat'],\n",
    "#         text = df['text'],\n",
    "        mode = 'markers',\n",
    "        marker = dict(\n",
    "            size = 4,\n",
    "            opacity = 0.8,\n",
    "            reversescale = True,\n",
    "            autocolorscale = False,\n",
    "            symbol = 'square',\n",
    "            line = dict(\n",
    "                width=1,\n",
    "                color='rgba(102, 102, 102)'\n",
    "            ),\n",
    "            colorscale = 'Blues',\n",
    "            cmin = 0,\n",
    "            color = df['cnt'],\n",
    "            cmax = df['cnt'].max(),\n",
    "#             colorbar_title=\"Incoming flights<br>February 2011\"\n",
    "        )))\n",
    "\n",
    "fig.update_layout(\n",
    "        title = 'Random lat lon in South America',\n",
    "        geo = dict(\n",
    "            scope='south america',\n",
    "#             projection_type='albers usa',\n",
    "            showland = True,\n",
    "            landcolor = \"rgb(250, 250, 250)\",\n",
    "            subunitcolor = \"rgb(217, 217, 217)\",\n",
    "            countrycolor = \"rgb(217, 217, 217)\",\n",
    "            countrywidth = 0.5,\n",
    "            subunitwidth = 0.5\n",
    "        ),\n",
    "    )\n",
    "fig.show()"
   ]
  },
  {
   "cell_type": "markdown",
   "metadata": {},
   "source": [
    "### Assign lat lon to each image"
   ]
  },
  {
   "cell_type": "code",
   "execution_count": 115,
   "metadata": {},
   "outputs": [
    {
     "name": "stdout",
     "output_type": "stream",
     "text": [
      "(1505, 18)\n"
     ]
    },
    {
     "data": {
      "text/html": [
       "<div>\n",
       "<style scoped>\n",
       "    .dataframe tbody tr th:only-of-type {\n",
       "        vertical-align: middle;\n",
       "    }\n",
       "\n",
       "    .dataframe tbody tr th {\n",
       "        vertical-align: top;\n",
       "    }\n",
       "\n",
       "    .dataframe thead th {\n",
       "        text-align: right;\n",
       "    }\n",
       "</style>\n",
       "<table border=\"1\" class=\"dataframe\">\n",
       "  <thead>\n",
       "    <tr style=\"text-align: right;\">\n",
       "      <th></th>\n",
       "      <th>image_name</th>\n",
       "      <th>haze</th>\n",
       "      <th>primary</th>\n",
       "      <th>agriculture</th>\n",
       "      <th>clear</th>\n",
       "      <th>water</th>\n",
       "      <th>habitation</th>\n",
       "      <th>road</th>\n",
       "      <th>cultivation</th>\n",
       "      <th>slash_burn</th>\n",
       "      <th>cloudy</th>\n",
       "      <th>partly_cloudy</th>\n",
       "      <th>conventional_mine</th>\n",
       "      <th>bare_ground</th>\n",
       "      <th>artisinal_mine</th>\n",
       "      <th>blooming</th>\n",
       "      <th>selective_logging</th>\n",
       "      <th>blow_down</th>\n",
       "    </tr>\n",
       "  </thead>\n",
       "  <tbody>\n",
       "    <tr>\n",
       "      <td>0</td>\n",
       "      <td>train_0</td>\n",
       "      <td>1</td>\n",
       "      <td>1</td>\n",
       "      <td>0</td>\n",
       "      <td>0</td>\n",
       "      <td>0</td>\n",
       "      <td>0</td>\n",
       "      <td>0</td>\n",
       "      <td>0</td>\n",
       "      <td>0</td>\n",
       "      <td>0</td>\n",
       "      <td>0</td>\n",
       "      <td>0</td>\n",
       "      <td>0</td>\n",
       "      <td>0</td>\n",
       "      <td>0</td>\n",
       "      <td>0</td>\n",
       "      <td>0</td>\n",
       "    </tr>\n",
       "    <tr>\n",
       "      <td>1</td>\n",
       "      <td>train_1</td>\n",
       "      <td>0</td>\n",
       "      <td>1</td>\n",
       "      <td>1</td>\n",
       "      <td>1</td>\n",
       "      <td>1</td>\n",
       "      <td>0</td>\n",
       "      <td>0</td>\n",
       "      <td>0</td>\n",
       "      <td>0</td>\n",
       "      <td>0</td>\n",
       "      <td>0</td>\n",
       "      <td>0</td>\n",
       "      <td>0</td>\n",
       "      <td>0</td>\n",
       "      <td>0</td>\n",
       "      <td>0</td>\n",
       "      <td>0</td>\n",
       "    </tr>\n",
       "    <tr>\n",
       "      <td>2</td>\n",
       "      <td>train_10</td>\n",
       "      <td>0</td>\n",
       "      <td>1</td>\n",
       "      <td>1</td>\n",
       "      <td>1</td>\n",
       "      <td>1</td>\n",
       "      <td>0</td>\n",
       "      <td>0</td>\n",
       "      <td>0</td>\n",
       "      <td>1</td>\n",
       "      <td>0</td>\n",
       "      <td>0</td>\n",
       "      <td>0</td>\n",
       "      <td>0</td>\n",
       "      <td>0</td>\n",
       "      <td>0</td>\n",
       "      <td>0</td>\n",
       "      <td>0</td>\n",
       "    </tr>\n",
       "    <tr>\n",
       "      <td>3</td>\n",
       "      <td>train_100</td>\n",
       "      <td>0</td>\n",
       "      <td>0</td>\n",
       "      <td>0</td>\n",
       "      <td>1</td>\n",
       "      <td>1</td>\n",
       "      <td>0</td>\n",
       "      <td>0</td>\n",
       "      <td>0</td>\n",
       "      <td>0</td>\n",
       "      <td>0</td>\n",
       "      <td>0</td>\n",
       "      <td>0</td>\n",
       "      <td>1</td>\n",
       "      <td>0</td>\n",
       "      <td>0</td>\n",
       "      <td>0</td>\n",
       "      <td>0</td>\n",
       "    </tr>\n",
       "    <tr>\n",
       "      <td>4</td>\n",
       "      <td>train_1000</td>\n",
       "      <td>0</td>\n",
       "      <td>1</td>\n",
       "      <td>0</td>\n",
       "      <td>0</td>\n",
       "      <td>0</td>\n",
       "      <td>0</td>\n",
       "      <td>0</td>\n",
       "      <td>0</td>\n",
       "      <td>0</td>\n",
       "      <td>1</td>\n",
       "      <td>1</td>\n",
       "      <td>0</td>\n",
       "      <td>0</td>\n",
       "      <td>0</td>\n",
       "      <td>0</td>\n",
       "      <td>0</td>\n",
       "      <td>0</td>\n",
       "    </tr>\n",
       "  </tbody>\n",
       "</table>\n",
       "</div>"
      ],
      "text/plain": [
       "   image_name  haze  primary  agriculture  clear  water  habitation  road  \\\n",
       "0     train_0     1        1            0      0      0           0     0   \n",
       "1     train_1     0        1            1      1      1           0     0   \n",
       "2    train_10     0        1            1      1      1           0     0   \n",
       "3   train_100     0        0            0      1      1           0     0   \n",
       "4  train_1000     0        1            0      0      0           0     0   \n",
       "\n",
       "   cultivation  slash_burn  cloudy  partly_cloudy  conventional_mine  \\\n",
       "0            0           0       0              0                  0   \n",
       "1            0           0       0              0                  0   \n",
       "2            0           1       0              0                  0   \n",
       "3            0           0       0              0                  0   \n",
       "4            0           0       1              1                  0   \n",
       "\n",
       "   bare_ground  artisinal_mine  blooming  selective_logging  blow_down  \n",
       "0            0               0         0                  0          0  \n",
       "1            0               0         0                  0          0  \n",
       "2            0               0         0                  0          0  \n",
       "3            1               0         0                  0          0  \n",
       "4            0               0         0                  0          0  "
      ]
     },
     "execution_count": 115,
     "metadata": {},
     "output_type": "execute_result"
    }
   ],
   "source": [
    "df = model_pipeline.load_dependent_vars()\n",
    "\n",
    "print(df.shape)\n",
    "df.head()"
   ]
  },
  {
   "cell_type": "code",
   "execution_count": 116,
   "metadata": {},
   "outputs": [
    {
     "data": {
      "text/html": [
       "<div>\n",
       "<style scoped>\n",
       "    .dataframe tbody tr th:only-of-type {\n",
       "        vertical-align: middle;\n",
       "    }\n",
       "\n",
       "    .dataframe tbody tr th {\n",
       "        vertical-align: top;\n",
       "    }\n",
       "\n",
       "    .dataframe thead th {\n",
       "        text-align: right;\n",
       "    }\n",
       "</style>\n",
       "<table border=\"1\" class=\"dataframe\">\n",
       "  <thead>\n",
       "    <tr style=\"text-align: right;\">\n",
       "      <th></th>\n",
       "      <th>image_name</th>\n",
       "    </tr>\n",
       "  </thead>\n",
       "  <tbody>\n",
       "    <tr>\n",
       "      <td>0</td>\n",
       "      <td>train_0</td>\n",
       "    </tr>\n",
       "    <tr>\n",
       "      <td>1</td>\n",
       "      <td>train_1</td>\n",
       "    </tr>\n",
       "    <tr>\n",
       "      <td>2</td>\n",
       "      <td>train_10</td>\n",
       "    </tr>\n",
       "    <tr>\n",
       "      <td>3</td>\n",
       "      <td>train_100</td>\n",
       "    </tr>\n",
       "    <tr>\n",
       "      <td>4</td>\n",
       "      <td>train_1000</td>\n",
       "    </tr>\n",
       "    <tr>\n",
       "      <td>...</td>\n",
       "      <td>...</td>\n",
       "    </tr>\n",
       "    <tr>\n",
       "      <td>1500</td>\n",
       "      <td>train_11347</td>\n",
       "    </tr>\n",
       "    <tr>\n",
       "      <td>1501</td>\n",
       "      <td>train_11348</td>\n",
       "    </tr>\n",
       "    <tr>\n",
       "      <td>1502</td>\n",
       "      <td>train_11349</td>\n",
       "    </tr>\n",
       "    <tr>\n",
       "      <td>1503</td>\n",
       "      <td>train_1135</td>\n",
       "    </tr>\n",
       "    <tr>\n",
       "      <td>1504</td>\n",
       "      <td>train_11350</td>\n",
       "    </tr>\n",
       "  </tbody>\n",
       "</table>\n",
       "<p>1505 rows × 1 columns</p>\n",
       "</div>"
      ],
      "text/plain": [
       "       image_name\n",
       "0         train_0\n",
       "1         train_1\n",
       "2        train_10\n",
       "3       train_100\n",
       "4      train_1000\n",
       "...           ...\n",
       "1500  train_11347\n",
       "1501  train_11348\n",
       "1502  train_11349\n",
       "1503   train_1135\n",
       "1504  train_11350\n",
       "\n",
       "[1505 rows x 1 columns]"
      ]
     },
     "execution_count": 116,
     "metadata": {},
     "output_type": "execute_result"
    }
   ],
   "source": [
    "df_lat_lon = pd.DataFrame(df.image_name)\n",
    "df_lat_lon"
   ]
  },
  {
   "cell_type": "code",
   "execution_count": 117,
   "metadata": {},
   "outputs": [
    {
     "data": {
      "text/html": [
       "<div>\n",
       "<style scoped>\n",
       "    .dataframe tbody tr th:only-of-type {\n",
       "        vertical-align: middle;\n",
       "    }\n",
       "\n",
       "    .dataframe tbody tr th {\n",
       "        vertical-align: top;\n",
       "    }\n",
       "\n",
       "    .dataframe thead th {\n",
       "        text-align: right;\n",
       "    }\n",
       "</style>\n",
       "<table border=\"1\" class=\"dataframe\">\n",
       "  <thead>\n",
       "    <tr style=\"text-align: right;\">\n",
       "      <th></th>\n",
       "      <th>image_name</th>\n",
       "      <th>lat</th>\n",
       "      <th>lon</th>\n",
       "    </tr>\n",
       "  </thead>\n",
       "  <tbody>\n",
       "    <tr>\n",
       "      <td>0</td>\n",
       "      <td>train_0</td>\n",
       "      <td>-3.071458</td>\n",
       "      <td>-60.516524</td>\n",
       "    </tr>\n",
       "    <tr>\n",
       "      <td>1</td>\n",
       "      <td>train_1</td>\n",
       "      <td>-1.998991</td>\n",
       "      <td>-58.990579</td>\n",
       "    </tr>\n",
       "    <tr>\n",
       "      <td>2</td>\n",
       "      <td>train_10</td>\n",
       "      <td>-0.820273</td>\n",
       "      <td>-63.351128</td>\n",
       "    </tr>\n",
       "    <tr>\n",
       "      <td>3</td>\n",
       "      <td>train_100</td>\n",
       "      <td>-1.762132</td>\n",
       "      <td>-55.031611</td>\n",
       "    </tr>\n",
       "    <tr>\n",
       "      <td>4</td>\n",
       "      <td>train_1000</td>\n",
       "      <td>-2.476780</td>\n",
       "      <td>-70.701845</td>\n",
       "    </tr>\n",
       "  </tbody>\n",
       "</table>\n",
       "</div>"
      ],
      "text/plain": [
       "   image_name       lat        lon\n",
       "0     train_0 -3.071458 -60.516524\n",
       "1     train_1 -1.998991 -58.990579\n",
       "2    train_10 -0.820273 -63.351128\n",
       "3   train_100 -1.762132 -55.031611\n",
       "4  train_1000 -2.476780 -70.701845"
      ]
     },
     "execution_count": 117,
     "metadata": {},
     "output_type": "execute_result"
    }
   ],
   "source": [
    "df_lat_lon = make_dataset.add_random_lat_lon(df_lat_lon, [-3, -62])\n",
    "\n",
    "df_lat_lon.head()"
   ]
  },
  {
   "cell_type": "code",
   "execution_count": 118,
   "metadata": {},
   "outputs": [],
   "source": [
    "make_dataset.save_data(df_lat_lon, 'processed', 'processed_lat_lon.csv')"
   ]
  },
  {
   "cell_type": "code",
   "execution_count": null,
   "metadata": {},
   "outputs": [],
   "source": []
  }
 ],
 "metadata": {
  "kernelspec": {
   "display_name": "Python [conda env:amazon_cv] *",
   "language": "python",
   "name": "conda-env-amazon_cv-py"
  },
  "language_info": {
   "codemirror_mode": {
    "name": "ipython",
    "version": 3
   },
   "file_extension": ".py",
   "mimetype": "text/x-python",
   "name": "python",
   "nbconvert_exporter": "python",
   "pygments_lexer": "ipython3",
   "version": "3.7.4"
  }
 },
 "nbformat": 4,
 "nbformat_minor": 2
}
