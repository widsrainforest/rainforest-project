{
 "cells": [
  {
   "cell_type": "markdown",
   "metadata": {},
   "source": [
    "# Code to facilitate png/jpeg upload into Dash UI"
   ]
  },
  {
   "cell_type": "markdown",
   "metadata": {},
   "source": [
    "The code below will create a button and image insert function that will help store and plot images against the UI in given coordinates provided by the user."
   ]
  },
  {
   "cell_type": "code",
   "execution_count": 1,
   "metadata": {},
   "outputs": [],
   "source": [
    "import pandas as pd\n",
    "from matplotlib.ticker import FormatStrFormatter\n",
    "import matplotlib\n",
    "matplotlib.use('nbagg')\n",
    "import matplotlib.pyplot as plt\n",
    "plt.style.use('fivethirtyeight')\n",
    "%matplotlib inline\n",
    "%config InlineBackend.figure_format = 'retina'"
   ]
  },
  {
   "cell_type": "code",
   "execution_count": 2,
   "metadata": {},
   "outputs": [
    {
     "name": "stdout",
     "output_type": "stream",
     "text": [
      "Requirement already satisfied: dash in c:\\users\\599696\\appdata\\local\\continuum\\anaconda3\\lib\\site-packages (1.4.1)\n",
      "Requirement already satisfied: Flask>=1.0.2 in c:\\users\\599696\\appdata\\local\\continuum\\anaconda3\\lib\\site-packages (from dash) (1.0.2)\n",
      "Requirement already satisfied: dash-renderer==1.1.2 in c:\\users\\599696\\appdata\\local\\continuum\\anaconda3\\lib\\site-packages (from dash) (1.1.2)\n",
      "Requirement already satisfied: future in c:\\users\\599696\\appdata\\local\\continuum\\anaconda3\\lib\\site-packages (from dash) (0.17.1)\n",
      "Requirement already satisfied: plotly in c:\\users\\599696\\appdata\\local\\continuum\\anaconda3\\lib\\site-packages (from dash) (3.10.0)\n",
      "Requirement already satisfied: flask-compress in c:\\users\\599696\\appdata\\local\\continuum\\anaconda3\\lib\\site-packages (from dash) (1.4.0)\n",
      "Requirement already satisfied: dash-table==4.4.1 in c:\\users\\599696\\appdata\\local\\continuum\\anaconda3\\lib\\site-packages (from dash) (4.4.1)\n",
      "Requirement already satisfied: dash-core-components==1.3.1 in c:\\users\\599696\\appdata\\local\\continuum\\anaconda3\\lib\\site-packages (from dash) (1.3.1)\n",
      "Requirement already satisfied: dash-html-components==1.0.1 in c:\\users\\599696\\appdata\\local\\continuum\\anaconda3\\lib\\site-packages (from dash) (1.0.1)\n",
      "Requirement already satisfied: Werkzeug>=0.14 in c:\\users\\599696\\appdata\\local\\continuum\\anaconda3\\lib\\site-packages (from Flask>=1.0.2->dash) (0.14.1)\n",
      "Requirement already satisfied: Jinja2>=2.10 in c:\\users\\599696\\appdata\\local\\continuum\\anaconda3\\lib\\site-packages (from Flask>=1.0.2->dash) (2.10)\n",
      "Requirement already satisfied: itsdangerous>=0.24 in c:\\users\\599696\\appdata\\local\\continuum\\anaconda3\\lib\\site-packages (from Flask>=1.0.2->dash) (1.1.0)\n",
      "Requirement already satisfied: click>=5.1 in c:\\users\\599696\\appdata\\local\\continuum\\anaconda3\\lib\\site-packages (from Flask>=1.0.2->dash) (7.0)\n",
      "Requirement already satisfied: decorator>=4.0.6 in c:\\users\\599696\\appdata\\local\\continuum\\anaconda3\\lib\\site-packages (from plotly->dash) (4.3.0)\n",
      "Requirement already satisfied: nbformat>=4.2 in c:\\users\\599696\\appdata\\local\\continuum\\anaconda3\\lib\\site-packages (from plotly->dash) (4.4.0)\n",
      "Requirement already satisfied: retrying>=1.3.3 in c:\\users\\599696\\appdata\\local\\continuum\\anaconda3\\lib\\site-packages (from plotly->dash) (1.3.3)\n",
      "Requirement already satisfied: six in c:\\users\\599696\\appdata\\local\\continuum\\anaconda3\\lib\\site-packages (from plotly->dash) (1.12.0)\n",
      "Requirement already satisfied: requests in c:\\users\\599696\\appdata\\local\\continuum\\anaconda3\\lib\\site-packages (from plotly->dash) (2.21.0)\n",
      "Requirement already satisfied: pytz in c:\\users\\599696\\appdata\\local\\continuum\\anaconda3\\lib\\site-packages (from plotly->dash) (2018.7)\n",
      "Requirement already satisfied: MarkupSafe>=0.23 in c:\\users\\599696\\appdata\\local\\continuum\\anaconda3\\lib\\site-packages (from Jinja2>=2.10->Flask>=1.0.2->dash) (1.1.0)\n",
      "Requirement already satisfied: jupyter-core in c:\\users\\599696\\appdata\\local\\continuum\\anaconda3\\lib\\site-packages (from nbformat>=4.2->plotly->dash) (4.4.0)\n",
      "Requirement already satisfied: ipython-genutils in c:\\users\\599696\\appdata\\local\\continuum\\anaconda3\\lib\\site-packages (from nbformat>=4.2->plotly->dash) (0.2.0)\n",
      "Requirement already satisfied: traitlets>=4.1 in c:\\users\\599696\\appdata\\local\\continuum\\anaconda3\\lib\\site-packages (from nbformat>=4.2->plotly->dash) (4.3.2)\n",
      "Requirement already satisfied: jsonschema!=2.5.0,>=2.4 in c:\\users\\599696\\appdata\\local\\continuum\\anaconda3\\lib\\site-packages (from nbformat>=4.2->plotly->dash) (2.6.0)\n",
      "Requirement already satisfied: certifi>=2017.4.17 in c:\\users\\599696\\appdata\\local\\continuum\\anaconda3\\lib\\site-packages (from requests->plotly->dash) (2018.11.29)\n",
      "Requirement already satisfied: idna<2.9,>=2.5 in c:\\users\\599696\\appdata\\local\\continuum\\anaconda3\\lib\\site-packages (from requests->plotly->dash) (2.8)\n",
      "Requirement already satisfied: urllib3<1.25,>=1.21.1 in c:\\users\\599696\\appdata\\local\\continuum\\anaconda3\\lib\\site-packages (from requests->plotly->dash) (1.24.1)\n",
      "Requirement already satisfied: chardet<3.1.0,>=3.0.2 in c:\\users\\599696\\appdata\\local\\continuum\\anaconda3\\lib\\site-packages (from requests->plotly->dash) (3.0.4)\n"
     ]
    }
   ],
   "source": [
    "!pip install dash"
   ]
  },
  {
   "cell_type": "code",
   "execution_count": 3,
   "metadata": {},
   "outputs": [],
   "source": [
    "import datetime\n",
    "\n",
    "import dash as dash\n",
    "from dash.dependencies import Input, Output, State\n",
    "import dash_core_components as dcc\n",
    "import dash_html_components as html"
   ]
  },
  {
   "cell_type": "code",
   "execution_count": 4,
   "metadata": {},
   "outputs": [
    {
     "ename": "NameError",
     "evalue": "name 'app' is not defined",
     "output_type": "error",
     "traceback": [
      "\u001b[1;31m---------------------------------------------------------------------------\u001b[0m",
      "\u001b[1;31mNameError\u001b[0m                                 Traceback (most recent call last)",
      "\u001b[1;32m<ipython-input-4-7dd6d34581f7>\u001b[0m in \u001b[0;36m<module>\u001b[1;34m\u001b[0m\n\u001b[0;32m     19\u001b[0m         \u001b[0mmultiple\u001b[0m\u001b[1;33m=\u001b[0m\u001b[1;32mTrue\u001b[0m\u001b[1;33m\u001b[0m\u001b[1;33m\u001b[0m\u001b[0m\n\u001b[0;32m     20\u001b[0m     ),\n\u001b[1;32m---> 21\u001b[1;33m     \u001b[0mhtml\u001b[0m\u001b[1;33m.\u001b[0m\u001b[0mDiv\u001b[0m\u001b[1;33m(\u001b[0m\u001b[0mid\u001b[0m\u001b[1;33m=\u001b[0m\u001b[1;34m'output-image-upload'\u001b[0m\u001b[1;33m)\u001b[0m\u001b[1;33m,\u001b[0m\u001b[1;33m\u001b[0m\u001b[1;33m\u001b[0m\u001b[0m\n\u001b[0m\u001b[0;32m     22\u001b[0m ])\n",
      "\u001b[1;31mNameError\u001b[0m: name 'app' is not defined"
     ]
    }
   ],
   "source": [
    "app.layout = html.Div([\n",
    "    dcc.Upload(\n",
    "        id='upload-image',\n",
    "        children=html.Div([\n",
    "            'Insert Images by drag and drop or ',\n",
    "            html.A('Select Files')\n",
    "        ]),\n",
    "        style={\n",
    "            'width': '100%',\n",
    "            'height': '60px',\n",
    "            'lineHeight': '60px',\n",
    "            'borderWidth': '1px',\n",
    "            'borderStyle': 'dashed',\n",
    "            'borderRadius': '5px',\n",
    "            'textAlign': 'center',\n",
    "            'margin': '10px'\n",
    "        },\n",
    "        # Allow multiple files to be uploaded\n",
    "        multiple=True\n",
    "    ),\n",
    "    html.Div(id='output-image-upload'),\n",
    "])\n"
   ]
  },
  {
   "cell_type": "code",
   "execution_count": null,
   "metadata": {},
   "outputs": [],
   "source": [
    "def parse_contents(contents, filename, date):\n",
    "    return html.Div([\n",
    "        html.H5(filename),\n",
    "        html.H6(datetime.datetime.fromtimestamp(date)),\n",
    "\n",
    "        # HTML images accept base64 encoded strings in the same format\n",
    "        # that is supplied by the upload\n",
    "        html.Img(src=contents),\n",
    "        html.Hr(),\n",
    "        html.Div('Raw Content'),\n",
    "        html.Pre(contents[0:200] + '...', style={\n",
    "            'whiteSpace': 'pre-wrap',\n",
    "            'wordBreak': 'break-all'\n",
    "        })\n",
    "    ])\n",
    "\n",
    "\n",
    "@app.callback(Output('output-image-upload', 'children'),\n",
    "              [Input('upload-image', 'contents')],\n",
    "              [State('upload-image', 'filename'),\n",
    "               State('upload-image', 'last_modified')])\n",
    "def update_output(list_of_contents, list_of_names, list_of_dates):\n",
    "    if list_of_contents is not None:\n",
    "        children = [\n",
    "            parse_contents(c, n, d) for c, n, d in\n",
    "            zip(list_of_contents, list_of_names, list_of_dates)]\n",
    "        return children"
   ]
  },
  {
   "cell_type": "code",
   "execution_count": null,
   "metadata": {},
   "outputs": [],
   "source": []
  },
  {
   "cell_type": "code",
   "execution_count": null,
   "metadata": {},
   "outputs": [],
   "source": []
  }
 ],
 "metadata": {
  "kernelspec": {
   "display_name": "Python 3",
   "language": "python",
   "name": "python3"
  },
  "language_info": {
   "codemirror_mode": {
    "name": "ipython",
    "version": 3
   },
   "file_extension": ".py",
   "mimetype": "text/x-python",
   "name": "python",
   "nbconvert_exporter": "python",
   "pygments_lexer": "ipython3",
   "version": "3.7.1"
  }
 },
 "nbformat": 4,
 "nbformat_minor": 2
}
